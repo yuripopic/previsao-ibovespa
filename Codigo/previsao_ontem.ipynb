{
 "cells": [
  {
   "cell_type": "markdown",
   "id": "944857b9",
   "metadata": {},
   "source": [
    "# Modelo de LSTM para previsão do ibovespa"
   ]
  },
  {
   "cell_type": "markdown",
   "id": "1321a5ce",
   "metadata": {},
   "source": [
    "## Bibliotecas"
   ]
  },
  {
   "cell_type": "code",
   "execution_count": 31,
   "id": "7e89d0e3",
   "metadata": {},
   "outputs": [],
   "source": [
    "# Usando a versão 3.10.11 do python\n",
    "\n",
    "import numpy as np\n",
    "import pandas as pd\n",
    "from sklearn.preprocessing import MinMaxScaler \n",
    "from sklearn.metrics import mean_absolute_error, mean_absolute_percentage_error, mean_squared_error\n",
    "from keras.models import Sequential\n",
    "from keras.layers import Dense, LSTM, Dropout\n",
    "import matplotlib.pyplot as plt\n",
    "import plotly.graph_objects as go\n",
    "from pathlib import Path\n",
    "from datetime import timedelta\n",
    "import os\n",
    "pd.options.mode.chained_assignment = None"
   ]
  },
  {
   "cell_type": "markdown",
   "id": "ecc49569",
   "metadata": {},
   "source": [
    "## Ler base"
   ]
  },
  {
   "cell_type": "code",
   "execution_count": 32,
   "id": "99cfa577",
   "metadata": {},
   "outputs": [
    {
     "data": {
      "application/vnd.microsoft.datawrangler.viewer.v0+json": {
       "columns": [
        {
         "name": "index",
         "rawType": "int64",
         "type": "integer"
        },
        {
         "name": "Data",
         "rawType": "datetime64[ns]",
         "type": "datetime"
        },
        {
         "name": "Fechamento",
         "rawType": "float64",
         "type": "float"
        },
        {
         "name": "Abertura",
         "rawType": "float64",
         "type": "float"
        },
        {
         "name": "Máxima",
         "rawType": "float64",
         "type": "float"
        },
        {
         "name": "Mínima",
         "rawType": "float64",
         "type": "float"
        },
        {
         "name": "Variacao (%)",
         "rawType": "float64",
         "type": "float"
        }
       ],
       "ref": "b2eee77c-83d8-495f-b83c-81f6ba4bfe4f",
       "rows": [
        [
         "0",
         "2015-01-05 00:00:00",
         "47517.0",
         "48512.0",
         "48512.0",
         "47264.0",
         "-0.0205"
        ],
        [
         "1",
         "2015-01-06 00:00:00",
         "48001.0",
         "47517.0",
         "48061.0",
         "47338.0",
         "0.0102"
        ],
        [
         "2",
         "2015-01-07 00:00:00",
         "49463.0",
         "48006.0",
         "49882.0",
         "48006.0",
         "0.0305"
        ],
        [
         "3",
         "2015-01-08 00:00:00",
         "49943.0",
         "49463.0",
         "50261.0",
         "49017.0",
         "0.0097"
        ],
        [
         "4",
         "2015-01-09 00:00:00",
         "48840.0",
         "49955.0",
         "49955.0",
         "48501.0",
         "-0.0221"
        ],
        [
         "5",
         "2015-01-12 00:00:00",
         "48140.0",
         "48840.0",
         "48840.0",
         "47956.0",
         "-0.0143"
        ],
        [
         "6",
         "2015-01-13 00:00:00",
         "48042.0",
         "48144.0",
         "48939.0",
         "48042.0",
         "-0.002"
        ],
        [
         "7",
         "2015-01-14 00:00:00",
         "47646.0",
         "48038.0",
         "48281.0",
         "47372.0",
         "-0.0082"
        ],
        [
         "8",
         "2015-01-15 00:00:00",
         "48026.0",
         "47648.0",
         "48853.0",
         "47648.0",
         "0.008"
        ],
        [
         "9",
         "2015-01-16 00:00:00",
         "49017.0",
         "48028.0",
         "49264.0",
         "48028.0",
         "0.0206"
        ],
        [
         "10",
         "2015-01-19 00:00:00",
         "47758.0",
         "49009.0",
         "49009.0",
         "47503.0",
         "-0.0257"
        ],
        [
         "11",
         "2015-01-20 00:00:00",
         "47877.0",
         "47759.0",
         "48687.0",
         "47619.0",
         "0.0025"
        ],
        [
         "12",
         "2015-01-21 00:00:00",
         "49224.0",
         "47888.0",
         "49329.0",
         "47888.0",
         "0.0281"
        ],
        [
         "13",
         "2015-01-22 00:00:00",
         "49443.0",
         "49227.0",
         "50281.0",
         "49227.0",
         "0.0044"
        ],
        [
         "14",
         "2015-01-23 00:00:00",
         "48775.0",
         "49432.0",
         "49523.0",
         "48496.0",
         "-0.0135"
        ],
        [
         "15",
         "2015-01-26 00:00:00",
         "48577.0",
         "48712.0",
         "48712.0",
         "48004.0",
         "-0.0041"
        ],
        [
         "16",
         "2015-01-27 00:00:00",
         "48591.0",
         "48577.0",
         "48864.0",
         "47352.0",
         "0.0003"
        ],
        [
         "17",
         "2015-01-28 00:00:00",
         "47695.0",
         "48589.0",
         "48589.0",
         "47550.0",
         "-0.0184"
        ],
        [
         "18",
         "2015-01-29 00:00:00",
         "47762.0",
         "47696.0",
         "47894.0",
         "47007.0",
         "0.0014"
        ],
        [
         "19",
         "2015-01-30 00:00:00",
         "46908.0",
         "47759.0",
         "47759.0",
         "46484.0",
         "-0.0179"
        ],
        [
         "20",
         "2015-02-02 00:00:00",
         "47651.0",
         "46933.0",
         "47684.0",
         "46760.0",
         "0.0158"
        ],
        [
         "21",
         "2015-02-03 00:00:00",
         "48964.0",
         "47664.0",
         "48993.0",
         "47664.0",
         "0.0276"
        ],
        [
         "22",
         "2015-02-04 00:00:00",
         "49301.0",
         "48965.0",
         "49718.0",
         "48214.0",
         "0.0069"
        ],
        [
         "23",
         "2015-02-05 00:00:00",
         "49234.0",
         "49299.0",
         "49816.0",
         "49020.0",
         "-0.0014"
        ],
        [
         "24",
         "2015-02-06 00:00:00",
         "48792.0",
         "49231.0",
         "49231.0",
         "48209.0",
         "-0.009"
        ],
        [
         "25",
         "2015-02-09 00:00:00",
         "49383.0",
         "48792.0",
         "49522.0",
         "48416.0",
         "0.0121"
        ],
        [
         "26",
         "2015-02-10 00:00:00",
         "48510.0",
         "49359.0",
         "49799.0",
         "48510.0",
         "-0.0177"
        ],
        [
         "27",
         "2015-02-11 00:00:00",
         "48240.0",
         "48508.0",
         "48762.0",
         "47841.0",
         "-0.0056"
        ],
        [
         "28",
         "2015-02-12 00:00:00",
         "49533.0",
         "48240.0",
         "49690.0",
         "48240.0",
         "0.0268"
        ],
        [
         "29",
         "2015-02-13 00:00:00",
         "50636.0",
         "49546.0",
         "50726.0",
         "49476.0",
         "0.0223"
        ],
        [
         "30",
         "2015-02-18 00:00:00",
         "51280.0",
         "50639.0",
         "51868.0",
         "50639.0",
         "0.0127"
        ],
        [
         "31",
         "2015-02-19 00:00:00",
         "51294.0",
         "51281.0",
         "51638.0",
         "50870.0",
         "0.0003"
        ],
        [
         "32",
         "2015-02-20 00:00:00",
         "51238.0",
         "51301.0",
         "51450.0",
         "50711.0",
         "-0.0011"
        ],
        [
         "33",
         "2015-02-23 00:00:00",
         "51281.0",
         "51238.0",
         "51690.0",
         "50861.0",
         "0.0008"
        ],
        [
         "34",
         "2015-02-24 00:00:00",
         "51874.0",
         "51288.0",
         "51956.0",
         "51049.0",
         "0.0116"
        ],
        [
         "35",
         "2015-02-25 00:00:00",
         "51811.0",
         "51863.0",
         "51863.0",
         "51051.0",
         "-0.0012"
        ],
        [
         "36",
         "2015-02-26 00:00:00",
         "51761.0",
         "51812.0",
         "51922.0",
         "51181.0",
         "-0.001"
        ],
        [
         "37",
         "2015-02-27 00:00:00",
         "51583.0",
         "51760.0",
         "52457.0",
         "51474.0",
         "-0.0034"
        ],
        [
         "38",
         "2015-03-02 00:00:00",
         "51021.0",
         "51580.0",
         "51580.0",
         "50775.0",
         "-0.0109"
        ],
        [
         "39",
         "2015-03-03 00:00:00",
         "51304.0",
         "51021.0",
         "51432.0",
         "50995.0",
         "0.0055"
        ],
        [
         "40",
         "2015-03-04 00:00:00",
         "50468.0",
         "51303.0",
         "51303.0",
         "50399.0",
         "-0.0163"
        ],
        [
         "41",
         "2015-03-05 00:00:00",
         "50365.0",
         "50472.0",
         "50734.0",
         "50114.0",
         "-0.002"
        ],
        [
         "42",
         "2015-03-06 00:00:00",
         "49981.0",
         "50355.0",
         "50401.0",
         "49779.0",
         "-0.0076"
        ],
        [
         "43",
         "2015-03-09 00:00:00",
         "49181.0",
         "49978.0",
         "49978.0",
         "48952.0",
         "-0.016"
        ],
        [
         "44",
         "2015-03-10 00:00:00",
         "48293.0",
         "49177.0",
         "49177.0",
         "48293.0",
         "-0.0181"
        ],
        [
         "45",
         "2015-03-11 00:00:00",
         "48906.0",
         "48309.0",
         "48937.0",
         "48309.0",
         "0.0127"
        ],
        [
         "46",
         "2015-03-12 00:00:00",
         "48880.0",
         "48908.0",
         "49633.0",
         "48684.0",
         "-0.0005"
        ],
        [
         "47",
         "2015-03-13 00:00:00",
         "48596.0",
         "48858.0",
         "48858.0",
         "47905.0",
         "-0.0058"
        ],
        [
         "48",
         "2015-03-16 00:00:00",
         "48848.0",
         "48602.0",
         "49205.0",
         "48394.0",
         "0.0052"
        ],
        [
         "49",
         "2015-03-17 00:00:00",
         "50285.0",
         "48849.0",
         "50384.0",
         "48841.0",
         "0.0294"
        ]
       ],
       "shape": {
        "columns": 6,
        "rows": 2614
       }
      },
      "text/html": [
       "<div>\n",
       "<style scoped>\n",
       "    .dataframe tbody tr th:only-of-type {\n",
       "        vertical-align: middle;\n",
       "    }\n",
       "\n",
       "    .dataframe tbody tr th {\n",
       "        vertical-align: top;\n",
       "    }\n",
       "\n",
       "    .dataframe thead th {\n",
       "        text-align: right;\n",
       "    }\n",
       "</style>\n",
       "<table border=\"1\" class=\"dataframe\">\n",
       "  <thead>\n",
       "    <tr style=\"text-align: right;\">\n",
       "      <th></th>\n",
       "      <th>Data</th>\n",
       "      <th>Fechamento</th>\n",
       "      <th>Abertura</th>\n",
       "      <th>Máxima</th>\n",
       "      <th>Mínima</th>\n",
       "      <th>Variacao (%)</th>\n",
       "    </tr>\n",
       "  </thead>\n",
       "  <tbody>\n",
       "    <tr>\n",
       "      <th>0</th>\n",
       "      <td>2015-01-05</td>\n",
       "      <td>47517.0</td>\n",
       "      <td>48512.0</td>\n",
       "      <td>48512.0</td>\n",
       "      <td>47264.0</td>\n",
       "      <td>-0.0205</td>\n",
       "    </tr>\n",
       "    <tr>\n",
       "      <th>1</th>\n",
       "      <td>2015-01-06</td>\n",
       "      <td>48001.0</td>\n",
       "      <td>47517.0</td>\n",
       "      <td>48061.0</td>\n",
       "      <td>47338.0</td>\n",
       "      <td>0.0102</td>\n",
       "    </tr>\n",
       "    <tr>\n",
       "      <th>2</th>\n",
       "      <td>2015-01-07</td>\n",
       "      <td>49463.0</td>\n",
       "      <td>48006.0</td>\n",
       "      <td>49882.0</td>\n",
       "      <td>48006.0</td>\n",
       "      <td>0.0305</td>\n",
       "    </tr>\n",
       "    <tr>\n",
       "      <th>3</th>\n",
       "      <td>2015-01-08</td>\n",
       "      <td>49943.0</td>\n",
       "      <td>49463.0</td>\n",
       "      <td>50261.0</td>\n",
       "      <td>49017.0</td>\n",
       "      <td>0.0097</td>\n",
       "    </tr>\n",
       "    <tr>\n",
       "      <th>4</th>\n",
       "      <td>2015-01-09</td>\n",
       "      <td>48840.0</td>\n",
       "      <td>49955.0</td>\n",
       "      <td>49955.0</td>\n",
       "      <td>48501.0</td>\n",
       "      <td>-0.0221</td>\n",
       "    </tr>\n",
       "    <tr>\n",
       "      <th>...</th>\n",
       "      <td>...</td>\n",
       "      <td>...</td>\n",
       "      <td>...</td>\n",
       "      <td>...</td>\n",
       "      <td>...</td>\n",
       "      <td>...</td>\n",
       "    </tr>\n",
       "    <tr>\n",
       "      <th>2609</th>\n",
       "      <td>2025-07-14</td>\n",
       "      <td>135299.0</td>\n",
       "      <td>136187.0</td>\n",
       "      <td>136187.0</td>\n",
       "      <td>134840.0</td>\n",
       "      <td>-0.0065</td>\n",
       "    </tr>\n",
       "    <tr>\n",
       "      <th>2610</th>\n",
       "      <td>2025-07-15</td>\n",
       "      <td>135250.0</td>\n",
       "      <td>135298.0</td>\n",
       "      <td>136022.0</td>\n",
       "      <td>134380.0</td>\n",
       "      <td>-0.0004</td>\n",
       "    </tr>\n",
       "    <tr>\n",
       "      <th>2611</th>\n",
       "      <td>2025-07-16</td>\n",
       "      <td>135511.0</td>\n",
       "      <td>135250.0</td>\n",
       "      <td>135641.0</td>\n",
       "      <td>134265.0</td>\n",
       "      <td>0.0019</td>\n",
       "    </tr>\n",
       "    <tr>\n",
       "      <th>2612</th>\n",
       "      <td>2025-07-17</td>\n",
       "      <td>135565.0</td>\n",
       "      <td>135515.0</td>\n",
       "      <td>135792.0</td>\n",
       "      <td>135016.0</td>\n",
       "      <td>0.0004</td>\n",
       "    </tr>\n",
       "    <tr>\n",
       "      <th>2613</th>\n",
       "      <td>2025-07-18</td>\n",
       "      <td>133606.0</td>\n",
       "      <td>135562.0</td>\n",
       "      <td>135562.0</td>\n",
       "      <td>133567.0</td>\n",
       "      <td>-0.0145</td>\n",
       "    </tr>\n",
       "  </tbody>\n",
       "</table>\n",
       "<p>2614 rows × 6 columns</p>\n",
       "</div>"
      ],
      "text/plain": [
       "           Data  Fechamento  Abertura    Máxima    Mínima  Variacao (%)\n",
       "0    2015-01-05     47517.0   48512.0   48512.0   47264.0       -0.0205\n",
       "1    2015-01-06     48001.0   47517.0   48061.0   47338.0        0.0102\n",
       "2    2015-01-07     49463.0   48006.0   49882.0   48006.0        0.0305\n",
       "3    2015-01-08     49943.0   49463.0   50261.0   49017.0        0.0097\n",
       "4    2015-01-09     48840.0   49955.0   49955.0   48501.0       -0.0221\n",
       "...         ...         ...       ...       ...       ...           ...\n",
       "2609 2025-07-14    135299.0  136187.0  136187.0  134840.0       -0.0065\n",
       "2610 2025-07-15    135250.0  135298.0  136022.0  134380.0       -0.0004\n",
       "2611 2025-07-16    135511.0  135250.0  135641.0  134265.0        0.0019\n",
       "2612 2025-07-17    135565.0  135515.0  135792.0  135016.0        0.0004\n",
       "2613 2025-07-18    133606.0  135562.0  135562.0  133567.0       -0.0145\n",
       "\n",
       "[2614 rows x 6 columns]"
      ]
     },
     "execution_count": 32,
     "metadata": {},
     "output_type": "execute_result"
    }
   ],
   "source": [
    "# Caminho da base\n",
    "base_diretório = Path(os.getcwd())\n",
    "diretório_princapl = base_diretório.parent\n",
    "caminho = diretório_princapl / 'Base' / 'Base Ibovespa Tratada.csv'\n",
    "\n",
    "# Carrega a base\n",
    "acao = pd.read_csv(caminho)\n",
    "acao['Data'] = pd.to_datetime(acao['Data'])\n",
    "\n",
    "# Ordena por data\n",
    "acao = acao.sort_values(by=\"Data\")\n",
    "\n",
    "acao"
   ]
  },
  {
   "cell_type": "code",
   "execution_count": 33,
   "id": "684e4d8a",
   "metadata": {},
   "outputs": [],
   "source": [
    "# # Criando a figura\n",
    "# fig = go.Figure()\n",
    "\n",
    "# # Adicionando a linha do fechamento\n",
    "# fig.add_trace(go.Scatter(\n",
    "#     x=acao['Data'],\n",
    "#     y=acao['Fechamento'],\n",
    "#     mode='lines',\n",
    "#     name='Fechamento',\n",
    "#     line=dict(color='blue')\n",
    "# ))\n",
    "\n",
    "# # Layout com interações\n",
    "# fig.update_layout(\n",
    "#     title=dict(\n",
    "#         text='Série Histórica Ibovespa',\n",
    "#         x=0.5,\n",
    "#         xanchor='center'\n",
    "#     ),\n",
    "#     xaxis_title='Data',\n",
    "#     yaxis_title='Valor Fechamento',\n",
    "#     xaxis=dict(\n",
    "#         rangeselector=dict(\n",
    "#             buttons=list([\n",
    "#                 dict(count=1, label='1m', step='month', stepmode='backward'),\n",
    "#                 dict(count=3, label='3m', step='month', stepmode='backward'),\n",
    "#                 dict(count=6, label='6m', step='month', stepmode='backward'),\n",
    "#                 dict(count=1, label='1a', step='year', stepmode='backward'),\n",
    "#                 dict(step='all', label='Tudo')\n",
    "#             ])\n",
    "#         ),\n",
    "#         rangeslider=dict(visible=True),\n",
    "#         type='date'\n",
    "#     )\n",
    "# )\n",
    "\n",
    "# # Mostrar gráfico da série histórica do IBOVESPA\n",
    "# fig.show()"
   ]
  },
  {
   "cell_type": "markdown",
   "id": "b1fc2e8d",
   "metadata": {},
   "source": [
    "## Aplicando modelo de ML"
   ]
  },
  {
   "cell_type": "code",
   "execution_count": 34,
   "id": "872950e9",
   "metadata": {},
   "outputs": [
    {
     "name": "stdout",
     "output_type": "stream",
     "text": [
      "Ontem: 2025-07-18 00:00:00\n",
      "Anteontem: 2025-07-17 00:00:00\n"
     ]
    }
   ],
   "source": [
    "# Define data de ontem e anteontem\n",
    "ultimo_dia = acao['Data'].max()\n",
    "penultimo_dia = acao['Data'].iloc[-2]\n",
    "\n",
    "print(f'Ontem: {ultimo_dia}\\nAnteontem: {penultimo_dia}')"
   ]
  },
  {
   "cell_type": "code",
   "execution_count": 35,
   "id": "deddcf32",
   "metadata": {},
   "outputs": [],
   "source": [
    "# Filtrando base que vai ser usada para treino até o penultimo dia da base\n",
    "acao_treino = acao#[acao['Data'] < ultimo_dia]\n",
    "cotacao_treino = acao_treino['Fechamento'].to_numpy().reshape(-1, 1)"
   ]
  },
  {
   "cell_type": "code",
   "execution_count": 36,
   "id": "3e6d602f",
   "metadata": {},
   "outputs": [
    {
     "data": {
      "text/plain": [
       "2614"
      ]
     },
     "execution_count": 36,
     "metadata": {},
     "output_type": "execute_result"
    }
   ],
   "source": [
    "# Armazenar tamanho dos dados de treinamento\n",
    "tamanho_dados_treinamento = int(len(cotacao_treino) * 1)\n",
    "tamanho_dados_treinamento"
   ]
  },
  {
   "cell_type": "code",
   "execution_count": 37,
   "id": "d6276318",
   "metadata": {},
   "outputs": [],
   "source": [
    "# Escala os dados\n",
    "escalador = MinMaxScaler(feature_range=(0, 1))\n",
    "dados_escalados = escalador.fit_transform(cotacao_treino)"
   ]
  },
  {
   "cell_type": "code",
   "execution_count": 38,
   "id": "1e8816bb",
   "metadata": {},
   "outputs": [],
   "source": [
    "# Cria dados de entrada para o modelo\n",
    "treinamento_x = []\n",
    "treinamento_y = []\n",
    "\n",
    "for i in range(60, len(dados_escalados)):\n",
    "    treinamento_x.append(dados_escalados[i-60:i, 0])\n",
    "    treinamento_y.append(dados_escalados[i, 0])"
   ]
  },
  {
   "cell_type": "code",
   "execution_count": 39,
   "id": "7a31ebf2",
   "metadata": {},
   "outputs": [],
   "source": [
    "treinamento_x, treinamento_y = np.array(treinamento_x), np.array(treinamento_y)\n",
    "treinamento_x = treinamento_x.reshape(treinamento_x.shape[0], treinamento_x.shape[1], 1)"
   ]
  },
  {
   "cell_type": "code",
   "execution_count": 40,
   "id": "710379f4",
   "metadata": {},
   "outputs": [
    {
     "name": "stdout",
     "output_type": "stream",
     "text": [
      "Epoch 1/20\n"
     ]
    },
    {
     "name": "stderr",
     "output_type": "stream",
     "text": [
      "c:\\Users\\Arq. Andrea\\AppData\\Local\\Programs\\Python\\Python310\\lib\\site-packages\\keras\\src\\layers\\rnn\\rnn.py:204: UserWarning:\n",
      "\n",
      "Do not pass an `input_shape`/`input_dim` argument to a layer. When using Sequential models, prefer using an `Input(shape)` object as the first layer in the model instead.\n",
      "\n"
     ]
    },
    {
     "name": "stdout",
     "output_type": "stream",
     "text": [
      "\u001b[1m256/256\u001b[0m \u001b[32m━━━━━━━━━━━━━━━━━━━━\u001b[0m\u001b[37m\u001b[0m \u001b[1m6s\u001b[0m 16ms/step - loss: 0.0325\n",
      "Epoch 2/20\n",
      "\u001b[1m256/256\u001b[0m \u001b[32m━━━━━━━━━━━━━━━━━━━━\u001b[0m\u001b[37m\u001b[0m \u001b[1m4s\u001b[0m 16ms/step - loss: 0.0029\n",
      "Epoch 3/20\n",
      "\u001b[1m256/256\u001b[0m \u001b[32m━━━━━━━━━━━━━━━━━━━━\u001b[0m\u001b[37m\u001b[0m \u001b[1m5s\u001b[0m 18ms/step - loss: 0.0021\n",
      "Epoch 4/20\n",
      "\u001b[1m256/256\u001b[0m \u001b[32m━━━━━━━━━━━━━━━━━━━━\u001b[0m\u001b[37m\u001b[0m \u001b[1m5s\u001b[0m 18ms/step - loss: 0.0018\n",
      "Epoch 5/20\n",
      "\u001b[1m256/256\u001b[0m \u001b[32m━━━━━━━━━━━━━━━━━━━━\u001b[0m\u001b[37m\u001b[0m \u001b[1m4s\u001b[0m 15ms/step - loss: 0.0015\n",
      "Epoch 6/20\n",
      "\u001b[1m256/256\u001b[0m \u001b[32m━━━━━━━━━━━━━━━━━━━━\u001b[0m\u001b[37m\u001b[0m \u001b[1m4s\u001b[0m 14ms/step - loss: 0.0012\n",
      "Epoch 7/20\n",
      "\u001b[1m256/256\u001b[0m \u001b[32m━━━━━━━━━━━━━━━━━━━━\u001b[0m\u001b[37m\u001b[0m \u001b[1m4s\u001b[0m 15ms/step - loss: 0.0011\n",
      "Epoch 8/20\n",
      "\u001b[1m256/256\u001b[0m \u001b[32m━━━━━━━━━━━━━━━━━━━━\u001b[0m\u001b[37m\u001b[0m \u001b[1m4s\u001b[0m 15ms/step - loss: 0.0010\n",
      "Epoch 9/20\n",
      "\u001b[1m256/256\u001b[0m \u001b[32m━━━━━━━━━━━━━━━━━━━━\u001b[0m\u001b[37m\u001b[0m \u001b[1m4s\u001b[0m 15ms/step - loss: 0.0010\n",
      "Epoch 10/20\n",
      "\u001b[1m256/256\u001b[0m \u001b[32m━━━━━━━━━━━━━━━━━━━━\u001b[0m\u001b[37m\u001b[0m \u001b[1m4s\u001b[0m 15ms/step - loss: 9.1087e-04\n",
      "Epoch 11/20\n",
      "\u001b[1m256/256\u001b[0m \u001b[32m━━━━━━━━━━━━━━━━━━━━\u001b[0m\u001b[37m\u001b[0m \u001b[1m4s\u001b[0m 16ms/step - loss: 0.0010\n",
      "Epoch 12/20\n",
      "\u001b[1m256/256\u001b[0m \u001b[32m━━━━━━━━━━━━━━━━━━━━\u001b[0m\u001b[37m\u001b[0m \u001b[1m4s\u001b[0m 15ms/step - loss: 9.2036e-04\n",
      "Epoch 13/20\n",
      "\u001b[1m256/256\u001b[0m \u001b[32m━━━━━━━━━━━━━━━━━━━━\u001b[0m\u001b[37m\u001b[0m \u001b[1m5s\u001b[0m 18ms/step - loss: 9.7529e-04\n",
      "Epoch 14/20\n",
      "\u001b[1m256/256\u001b[0m \u001b[32m━━━━━━━━━━━━━━━━━━━━\u001b[0m\u001b[37m\u001b[0m \u001b[1m5s\u001b[0m 18ms/step - loss: 0.0011\n",
      "Epoch 15/20\n",
      "\u001b[1m256/256\u001b[0m \u001b[32m━━━━━━━━━━━━━━━━━━━━\u001b[0m\u001b[37m\u001b[0m \u001b[1m4s\u001b[0m 16ms/step - loss: 9.3475e-04\n",
      "Epoch 16/20\n",
      "\u001b[1m256/256\u001b[0m \u001b[32m━━━━━━━━━━━━━━━━━━━━\u001b[0m\u001b[37m\u001b[0m \u001b[1m4s\u001b[0m 16ms/step - loss: 8.8901e-04\n",
      "Epoch 17/20\n",
      "\u001b[1m256/256\u001b[0m \u001b[32m━━━━━━━━━━━━━━━━━━━━\u001b[0m\u001b[37m\u001b[0m \u001b[1m4s\u001b[0m 16ms/step - loss: 9.3504e-04\n",
      "Epoch 18/20\n",
      "\u001b[1m256/256\u001b[0m \u001b[32m━━━━━━━━━━━━━━━━━━━━\u001b[0m\u001b[37m\u001b[0m \u001b[1m4s\u001b[0m 16ms/step - loss: 9.1385e-04\n",
      "Epoch 19/20\n",
      "\u001b[1m256/256\u001b[0m \u001b[32m━━━━━━━━━━━━━━━━━━━━\u001b[0m\u001b[37m\u001b[0m \u001b[1m4s\u001b[0m 16ms/step - loss: 0.0010\n",
      "Epoch 20/20\n",
      "\u001b[1m256/256\u001b[0m \u001b[32m━━━━━━━━━━━━━━━━━━━━\u001b[0m\u001b[37m\u001b[0m \u001b[1m4s\u001b[0m 16ms/step - loss: 9.5083e-04\n"
     ]
    },
    {
     "data": {
      "text/plain": [
       "<keras.src.callbacks.history.History at 0x1e3be75c040>"
      ]
     },
     "execution_count": 40,
     "metadata": {},
     "output_type": "execute_result"
    }
   ],
   "source": [
    "# Define e treina o modelo\n",
    "modelo = Sequential()\n",
    "modelo.add(LSTM(100, return_sequences=True, input_shape=(treinamento_x.shape[1], 1)))\n",
    "modelo.add(Dropout(0.2))\n",
    "modelo.add(LSTM(50, return_sequences=False))\n",
    "modelo.add(Dropout(0.2))\n",
    "modelo.add(Dense(25))\n",
    "modelo.add(Dense(1))\n",
    "modelo.compile(optimizer=\"adam\", loss=\"mean_squared_error\")\n",
    "modelo.fit(treinamento_x, treinamento_y, batch_size=10, epochs=20)"
   ]
  },
  {
   "cell_type": "code",
   "execution_count": 41,
   "id": "d2f883b7",
   "metadata": {},
   "outputs": [],
   "source": [
    "# Pega os últimos 60 dias até ANTEONTEM para previsão\n",
    "ultimos_60 = dados_escalados[-60:]\n",
    "entrada_predicao = ultimos_60.reshape(1, 60, 1)"
   ]
  },
  {
   "cell_type": "code",
   "execution_count": 42,
   "id": "780cff91",
   "metadata": {},
   "outputs": [
    {
     "name": "stdout",
     "output_type": "stream",
     "text": [
      "\u001b[1m1/1\u001b[0m \u001b[32m━━━━━━━━━━━━━━━━━━━━\u001b[0m\u001b[37m\u001b[0m \u001b[1m0s\u001b[0m 178ms/step\n",
      "Valor previsto: 132622.47\n"
     ]
    }
   ],
   "source": [
    "predicao = modelo.predict(entrada_predicao)\n",
    "predicao = escalador.inverse_transform(predicao)\n",
    "\n",
    "print(f'Valor previsto: {predicao[0][0]:.2f}')"
   ]
  },
  {
   "cell_type": "markdown",
   "id": "540ba847",
   "metadata": {},
   "source": [
    "# Métricas de avaliação do nosso modelo de ML"
   ]
  },
  {
   "cell_type": "markdown",
   "id": "1c55c192",
   "metadata": {},
   "source": [
    "### Acurácia direcional"
   ]
  },
  {
   "cell_type": "code",
   "execution_count": 43,
   "id": "ee629923",
   "metadata": {},
   "outputs": [
    {
     "data": {
      "application/vnd.microsoft.datawrangler.viewer.v0+json": {
       "columns": [
        {
         "name": "index",
         "rawType": "int64",
         "type": "integer"
        },
        {
         "name": "Data",
         "rawType": "object",
         "type": "unknown"
        },
        {
         "name": "Valor Anterior",
         "rawType": "object",
         "type": "string"
        },
        {
         "name": "Valor Real",
         "rawType": "float64",
         "type": "float"
        },
        {
         "name": "Valor Previsto",
         "rawType": "float64",
         "type": "float"
        },
        {
         "name": "Variação Real (%)",
         "rawType": "float64",
         "type": "float"
        },
        {
         "name": "Variação Prevista (%)",
         "rawType": "float64",
         "type": "float"
        },
        {
         "name": "Direção Correta?",
         "rawType": "object",
         "type": "string"
        }
       ],
       "ref": "86c7e700-209d-4fdc-ab48-7522a384bd12",
       "rows": [
        [
         "0",
         "2025-07-18",
         "135565.00",
         "133606.0",
         "132622.47",
         "-1.445",
         "-2.171",
         "Sim"
        ]
       ],
       "shape": {
        "columns": 7,
        "rows": 1
       }
      },
      "text/html": [
       "<div>\n",
       "<style scoped>\n",
       "    .dataframe tbody tr th:only-of-type {\n",
       "        vertical-align: middle;\n",
       "    }\n",
       "\n",
       "    .dataframe tbody tr th {\n",
       "        vertical-align: top;\n",
       "    }\n",
       "\n",
       "    .dataframe thead th {\n",
       "        text-align: right;\n",
       "    }\n",
       "</style>\n",
       "<table border=\"1\" class=\"dataframe\">\n",
       "  <thead>\n",
       "    <tr style=\"text-align: right;\">\n",
       "      <th></th>\n",
       "      <th>Data</th>\n",
       "      <th>Valor Anterior</th>\n",
       "      <th>Valor Real</th>\n",
       "      <th>Valor Previsto</th>\n",
       "      <th>Variação Real (%)</th>\n",
       "      <th>Variação Prevista (%)</th>\n",
       "      <th>Direção Correta?</th>\n",
       "    </tr>\n",
       "  </thead>\n",
       "  <tbody>\n",
       "    <tr>\n",
       "      <th>0</th>\n",
       "      <td>2025-07-18</td>\n",
       "      <td>135565.00</td>\n",
       "      <td>133606.0</td>\n",
       "      <td>132622.47</td>\n",
       "      <td>-1.445</td>\n",
       "      <td>-2.171</td>\n",
       "      <td>Sim</td>\n",
       "    </tr>\n",
       "  </tbody>\n",
       "</table>\n",
       "</div>"
      ],
      "text/plain": [
       "         Data Valor Anterior  Valor Real  Valor Previsto  Variação Real (%)  \\\n",
       "0  2025-07-18      135565.00    133606.0       132622.47             -1.445   \n",
       "\n",
       "   Variação Prevista (%) Direção Correta?  \n",
       "0                 -2.171              Sim  "
      ]
     },
     "execution_count": 43,
     "metadata": {},
     "output_type": "execute_result"
    }
   ],
   "source": [
    "\n",
    "\n",
    "# ---- Descomentar as quatro linhas de baixo caso for fazer teste do valor previsto do ultimo dia da base ----\n",
    "valor_real = acao[acao['Data'] == ultimo_dia]['Fechamento'].values[0]\n",
    "valor_anterior = acao[acao['Data'] == penultimo_dia]['Fechamento'].values[0]\n",
    "variacao_real = (valor_real - valor_anterior) / valor_anterior * 100\n",
    "variacao_predita = (predicao[0][0] - valor_anterior) / valor_anterior * 100\n",
    "# -----------------------------------------------------------------------------\n",
    "\n",
    "# ---- Descomentar as quatro linhas de baixo caso for prever do dia seguinte ----\n",
    "#valor_real = 137002\t# Valor de fechamento do ibovespa no dia 04/06/2025 (dia seguinte do ultimo que tem na base)\n",
    "#valor_anterior = acao[acao['Data'] == ultimo_dia]['Fechamento'].values[0]\n",
    "#variacao_real = (valor_real - valor_anterior) / valor_anterior * 100\n",
    "#variacao_predita = (predicao[0][0] - valor_anterior) / valor_anterior * 100\n",
    "# -----------------------------------------------------------------------------\n",
    "\n",
    "# Direção correta?\n",
    "direcao_correta = (variacao_real * variacao_predita) > 0  # ambos com mesmo sinal\n",
    "\n",
    "# Criar df final\n",
    "df_previsao = pd.DataFrame([{\n",
    "    'Data': ultimo_dia.date(), # Data do penultimo dia da base\n",
    "    #'Data Previsão': ultimo_dia.date() + timedelta(days=1), # Data do dia seguinte do ultimo dia da base\n",
    "    'Valor Anterior': f\"{valor_anterior:.2f}\",\n",
    "    'Valor Real': f\"{valor_real:.2f}\",\n",
    "    'Valor Previsto': f\"{predicao[0][0]:.2f}\",\n",
    "    'Variação Real (%)': f\"{variacao_real:.3f}\",\n",
    "    'Variação Prevista (%)': f\"{variacao_predita:.3f}\",\n",
    "    'Direção Correta?': 'Sim' if direcao_correta else 'Não'\n",
    "}])\n",
    "\n",
    "# Ajustar colunas numéricas\n",
    "colunas_para_converter = ['Valor Real', 'Valor Previsto', 'Variação Real (%)', 'Variação Prevista (%)']\n",
    "for coluna in colunas_para_converter:\n",
    "    df_previsao[coluna] = df_previsao[coluna].astype(float)\n",
    "    \n",
    "df_previsao"
   ]
  },
  {
   "cell_type": "markdown",
   "id": "2ca45cf1",
   "metadata": {},
   "source": [
    "### Mean Absolute Error (MAE) e Mean Absolute Percentage Error (MAPE)"
   ]
  },
  {
   "cell_type": "code",
   "execution_count": 44,
   "id": "b604726e",
   "metadata": {},
   "outputs": [
    {
     "name": "stdout",
     "output_type": "stream",
     "text": [
      "Mean Absolute Error (MAE): 983.53\n",
      "Mean Absolute Percentage Error (MAPE): 0.007361 = 0.7361%\n"
     ]
    }
   ],
   "source": [
    "# A média das diferenças absolutas entre as previsões e os valores reais. Penaliza todos os erros da mesma forma\n",
    "mae = mean_absolute_error(df_previsao['Valor Real'], df_previsao['Valor Previsto'])\n",
    "print(f\"Mean Absolute Error (MAE): {mae:.2f}\")\n",
    "\n",
    "# Calcular o MAPE\n",
    "mape = mean_absolute_percentage_error(df_previsao['Valor Real'], df_previsao['Valor Previsto'])\n",
    "print(f\"Mean Absolute Percentage Error (MAPE): {mape:.6f} = {100*mape:.4f}%\")"
   ]
  },
  {
   "cell_type": "markdown",
   "id": "7beb3446",
   "metadata": {},
   "source": [
    "### Root Mean Squared Error (RMSE)"
   ]
  },
  {
   "cell_type": "code",
   "execution_count": null,
   "id": "9a0cce93",
   "metadata": {},
   "outputs": [
    {
     "name": "stdout",
     "output_type": "stream",
     "text": [
      "RMSE: 983.53\n",
      "RMSE percentual: 0.007361 = 0.7361%\n"
     ]
    }
   ],
   "source": [
    "# A raiz quadrada da média dos erros ao quadrado. Dá mais peso a grandes erros\n",
    "rmse = np.sqrt(mean_squared_error(df_previsao['Valor Real'], df_previsao['Valor Previsto']))\n",
    "mean_price = df_previsao['Valor Real'].mean()\n",
    "\n",
    "print(f\"RMSE: {rmse:.2f}\")\n",
    "print(f\"RMSE percentual: {(rmse / mean_price):.6f} = {100*(rmse / mean_price):.4f}%\")"
   ]
  }
 ],
 "metadata": {
  "kernelspec": {
   "display_name": "Python 3",
   "language": "python",
   "name": "python3"
  },
  "language_info": {
   "codemirror_mode": {
    "name": "ipython",
    "version": 3
   },
   "file_extension": ".py",
   "mimetype": "text/x-python",
   "name": "python",
   "nbconvert_exporter": "python",
   "pygments_lexer": "ipython3",
   "version": "3.10.11"
  }
 },
 "nbformat": 4,
 "nbformat_minor": 5
}
