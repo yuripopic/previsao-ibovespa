{
 "cells": [
  {
   "cell_type": "markdown",
   "id": "944857b9",
   "metadata": {},
   "source": [
    "# Modelo de LSTM para previsão do ibovespa"
   ]
  },
  {
   "cell_type": "markdown",
   "id": "1321a5ce",
   "metadata": {},
   "source": [
    "## Bibliotecas"
   ]
  },
  {
   "cell_type": "code",
   "execution_count": 12,
   "id": "7e89d0e3",
   "metadata": {},
   "outputs": [],
   "source": [
    "# Usando a versão 3.10.11 do python\n",
    "\n",
    "import numpy as np\n",
    "import pandas as pd\n",
    "from sklearn.preprocessing import MinMaxScaler \n",
    "from sklearn.metrics import mean_absolute_error, mean_absolute_percentage_error, mean_squared_error\n",
    "from keras.models import Sequential\n",
    "from keras.layers import Dense, LSTM\n",
    "import matplotlib.pyplot as plt\n",
    "from pathlib import Path\n",
    "from datetime import timedelta\n",
    "import os\n",
    "pd.options.mode.chained_assignment = None"
   ]
  },
  {
   "cell_type": "markdown",
   "id": "ecc49569",
   "metadata": {},
   "source": [
    "## Ler base"
   ]
  },
  {
   "cell_type": "code",
   "execution_count": 2,
   "id": "99cfa577",
   "metadata": {},
   "outputs": [
    {
     "data": {
      "text/html": [
       "<div>\n",
       "<style scoped>\n",
       "    .dataframe tbody tr th:only-of-type {\n",
       "        vertical-align: middle;\n",
       "    }\n",
       "\n",
       "    .dataframe tbody tr th {\n",
       "        vertical-align: top;\n",
       "    }\n",
       "\n",
       "    .dataframe thead th {\n",
       "        text-align: right;\n",
       "    }\n",
       "</style>\n",
       "<table border=\"1\" class=\"dataframe\">\n",
       "  <thead>\n",
       "    <tr style=\"text-align: right;\">\n",
       "      <th></th>\n",
       "      <th>Data</th>\n",
       "      <th>Último</th>\n",
       "      <th>Abertura</th>\n",
       "      <th>Máxima</th>\n",
       "      <th>Mínima</th>\n",
       "      <th>Variacao (%)</th>\n",
       "    </tr>\n",
       "  </thead>\n",
       "  <tbody>\n",
       "    <tr>\n",
       "      <th>0</th>\n",
       "      <td>2015-01-05</td>\n",
       "      <td>47517.0</td>\n",
       "      <td>48512.0</td>\n",
       "      <td>48512.0</td>\n",
       "      <td>47264.0</td>\n",
       "      <td>-0.0205</td>\n",
       "    </tr>\n",
       "    <tr>\n",
       "      <th>1</th>\n",
       "      <td>2015-01-06</td>\n",
       "      <td>48001.0</td>\n",
       "      <td>47517.0</td>\n",
       "      <td>48061.0</td>\n",
       "      <td>47338.0</td>\n",
       "      <td>0.0102</td>\n",
       "    </tr>\n",
       "    <tr>\n",
       "      <th>2</th>\n",
       "      <td>2015-01-07</td>\n",
       "      <td>49463.0</td>\n",
       "      <td>48006.0</td>\n",
       "      <td>49882.0</td>\n",
       "      <td>48006.0</td>\n",
       "      <td>0.0305</td>\n",
       "    </tr>\n",
       "    <tr>\n",
       "      <th>3</th>\n",
       "      <td>2015-01-08</td>\n",
       "      <td>49943.0</td>\n",
       "      <td>49463.0</td>\n",
       "      <td>50261.0</td>\n",
       "      <td>49017.0</td>\n",
       "      <td>0.0097</td>\n",
       "    </tr>\n",
       "    <tr>\n",
       "      <th>4</th>\n",
       "      <td>2015-01-09</td>\n",
       "      <td>48840.0</td>\n",
       "      <td>49955.0</td>\n",
       "      <td>49955.0</td>\n",
       "      <td>48501.0</td>\n",
       "      <td>-0.0221</td>\n",
       "    </tr>\n",
       "    <tr>\n",
       "      <th>...</th>\n",
       "      <td>...</td>\n",
       "      <td>...</td>\n",
       "      <td>...</td>\n",
       "      <td>...</td>\n",
       "      <td>...</td>\n",
       "      <td>...</td>\n",
       "    </tr>\n",
       "    <tr>\n",
       "      <th>2577</th>\n",
       "      <td>2025-05-28</td>\n",
       "      <td>138888.0</td>\n",
       "      <td>139541.0</td>\n",
       "      <td>139547.0</td>\n",
       "      <td>138580.0</td>\n",
       "      <td>-0.0047</td>\n",
       "    </tr>\n",
       "    <tr>\n",
       "      <th>2578</th>\n",
       "      <td>2025-05-29</td>\n",
       "      <td>138534.0</td>\n",
       "      <td>138869.0</td>\n",
       "      <td>139108.0</td>\n",
       "      <td>137993.0</td>\n",
       "      <td>-0.0025</td>\n",
       "    </tr>\n",
       "    <tr>\n",
       "      <th>2579</th>\n",
       "      <td>2025-05-30</td>\n",
       "      <td>137027.0</td>\n",
       "      <td>138546.0</td>\n",
       "      <td>138637.0</td>\n",
       "      <td>136726.0</td>\n",
       "      <td>-0.0109</td>\n",
       "    </tr>\n",
       "    <tr>\n",
       "      <th>2580</th>\n",
       "      <td>2025-06-02</td>\n",
       "      <td>136787.0</td>\n",
       "      <td>137026.0</td>\n",
       "      <td>138471.0</td>\n",
       "      <td>136483.0</td>\n",
       "      <td>-0.0018</td>\n",
       "    </tr>\n",
       "    <tr>\n",
       "      <th>2581</th>\n",
       "      <td>2025-06-03</td>\n",
       "      <td>137546.0</td>\n",
       "      <td>136787.0</td>\n",
       "      <td>137672.0</td>\n",
       "      <td>136175.0</td>\n",
       "      <td>0.0056</td>\n",
       "    </tr>\n",
       "  </tbody>\n",
       "</table>\n",
       "<p>2582 rows × 6 columns</p>\n",
       "</div>"
      ],
      "text/plain": [
       "           Data    Último  Abertura    Máxima    Mínima  Variacao (%)\n",
       "0    2015-01-05   47517.0   48512.0   48512.0   47264.0       -0.0205\n",
       "1    2015-01-06   48001.0   47517.0   48061.0   47338.0        0.0102\n",
       "2    2015-01-07   49463.0   48006.0   49882.0   48006.0        0.0305\n",
       "3    2015-01-08   49943.0   49463.0   50261.0   49017.0        0.0097\n",
       "4    2015-01-09   48840.0   49955.0   49955.0   48501.0       -0.0221\n",
       "...         ...       ...       ...       ...       ...           ...\n",
       "2577 2025-05-28  138888.0  139541.0  139547.0  138580.0       -0.0047\n",
       "2578 2025-05-29  138534.0  138869.0  139108.0  137993.0       -0.0025\n",
       "2579 2025-05-30  137027.0  138546.0  138637.0  136726.0       -0.0109\n",
       "2580 2025-06-02  136787.0  137026.0  138471.0  136483.0       -0.0018\n",
       "2581 2025-06-03  137546.0  136787.0  137672.0  136175.0        0.0056\n",
       "\n",
       "[2582 rows x 6 columns]"
      ]
     },
     "execution_count": 2,
     "metadata": {},
     "output_type": "execute_result"
    }
   ],
   "source": [
    "# Caminho da base\n",
    "base_diretório = Path(os.getcwd())\n",
    "diretório_princapl = base_diretório.parent\n",
    "caminho = diretório_princapl / 'Base' / 'Base Ibovespa Tratada.csv'\n",
    "\n",
    "# Carrega a base\n",
    "acao = pd.read_csv(caminho)\n",
    "acao['Data'] = pd.to_datetime(acao['Data'])\n",
    "\n",
    "# Ordena por data\n",
    "acao = acao.sort_values(by=\"Data\")\n",
    "\n",
    "acao"
   ]
  },
  {
   "cell_type": "markdown",
   "id": "b1fc2e8d",
   "metadata": {},
   "source": [
    "## Aplicando modelo de ML"
   ]
  },
  {
   "cell_type": "code",
   "execution_count": 3,
   "id": "872950e9",
   "metadata": {},
   "outputs": [
    {
     "name": "stdout",
     "output_type": "stream",
     "text": [
      "Ontem: 2025-06-03 00:00:00\n",
      "Anteontem: 2025-06-02 00:00:00\n"
     ]
    }
   ],
   "source": [
    "# Define data de ontem e anteontem\n",
    "ontem = acao['Data'].max()\n",
    "anteontem = acao['Data'].iloc[-2]\n",
    "\n",
    "print(f'Ontem: {ontem}\\nAnteontem: {anteontem}')"
   ]
  },
  {
   "cell_type": "code",
   "execution_count": 4,
   "id": "deddcf32",
   "metadata": {},
   "outputs": [],
   "source": [
    "# Filtrando base que vai ser usada para treino até anteontem\n",
    "acao_treino = acao#[acao['Data'] < ontem]\n",
    "cotacao_treino = acao_treino['Último'].to_numpy().reshape(-1, 1)"
   ]
  },
  {
   "cell_type": "code",
   "execution_count": 5,
   "id": "3e6d602f",
   "metadata": {},
   "outputs": [
    {
     "data": {
      "text/plain": [
       "2582"
      ]
     },
     "execution_count": 5,
     "metadata": {},
     "output_type": "execute_result"
    }
   ],
   "source": [
    "# Armazenar tamanho dos dados de treinamento\n",
    "tamanho_dados_treinamento = int(len(cotacao_treino) * 1)\n",
    "tamanho_dados_treinamento"
   ]
  },
  {
   "cell_type": "code",
   "execution_count": 6,
   "id": "d6276318",
   "metadata": {},
   "outputs": [],
   "source": [
    "# Escala os dados\n",
    "escalador = MinMaxScaler(feature_range=(0, 1))\n",
    "dados_escalados = escalador.fit_transform(cotacao_treino)"
   ]
  },
  {
   "cell_type": "code",
   "execution_count": 7,
   "id": "1e8816bb",
   "metadata": {},
   "outputs": [],
   "source": [
    "# Cria dados de entrada para o modelo\n",
    "treinamento_x = []\n",
    "treinamento_y = []\n",
    "\n",
    "for i in range(60, len(dados_escalados)):\n",
    "    treinamento_x.append(dados_escalados[i-60:i, 0])\n",
    "    treinamento_y.append(dados_escalados[i, 0])"
   ]
  },
  {
   "cell_type": "code",
   "execution_count": 8,
   "id": "7a31ebf2",
   "metadata": {},
   "outputs": [],
   "source": [
    "treinamento_x, treinamento_y = np.array(treinamento_x), np.array(treinamento_y)\n",
    "treinamento_x = treinamento_x.reshape(treinamento_x.shape[0], treinamento_x.shape[1], 1)"
   ]
  },
  {
   "cell_type": "code",
   "execution_count": 9,
   "id": "710379f4",
   "metadata": {},
   "outputs": [
    {
     "name": "stdout",
     "output_type": "stream",
     "text": [
      "Epoch 1/20\n"
     ]
    },
    {
     "name": "stderr",
     "output_type": "stream",
     "text": [
      "c:\\Users\\YUPOPIC\\AppData\\Local\\Programs\\Python\\Python310\\lib\\site-packages\\keras\\src\\layers\\rnn\\rnn.py:199: UserWarning: Do not pass an `input_shape`/`input_dim` argument to a layer. When using Sequential models, prefer using an `Input(shape)` object as the first layer in the model instead.\n",
      "  super().__init__(**kwargs)\n"
     ]
    },
    {
     "name": "stdout",
     "output_type": "stream",
     "text": [
      "\u001b[1m253/253\u001b[0m \u001b[32m━━━━━━━━━━━━━━━━━━━━\u001b[0m\u001b[37m\u001b[0m \u001b[1m7s\u001b[0m 21ms/step - loss: 0.0166\n",
      "Epoch 2/20\n",
      "\u001b[1m253/253\u001b[0m \u001b[32m━━━━━━━━━━━━━━━━━━━━\u001b[0m\u001b[37m\u001b[0m \u001b[1m5s\u001b[0m 20ms/step - loss: 7.7296e-04\n",
      "Epoch 3/20\n",
      "\u001b[1m253/253\u001b[0m \u001b[32m━━━━━━━━━━━━━━━━━━━━\u001b[0m\u001b[37m\u001b[0m \u001b[1m6s\u001b[0m 25ms/step - loss: 6.3347e-04\n",
      "Epoch 4/20\n",
      "\u001b[1m253/253\u001b[0m \u001b[32m━━━━━━━━━━━━━━━━━━━━\u001b[0m\u001b[37m\u001b[0m \u001b[1m7s\u001b[0m 26ms/step - loss: 6.3470e-04\n",
      "Epoch 5/20\n",
      "\u001b[1m253/253\u001b[0m \u001b[32m━━━━━━━━━━━━━━━━━━━━\u001b[0m\u001b[37m\u001b[0m \u001b[1m6s\u001b[0m 24ms/step - loss: 5.3146e-04\n",
      "Epoch 6/20\n",
      "\u001b[1m253/253\u001b[0m \u001b[32m━━━━━━━━━━━━━━━━━━━━\u001b[0m\u001b[37m\u001b[0m \u001b[1m6s\u001b[0m 23ms/step - loss: 5.1710e-04\n",
      "Epoch 7/20\n",
      "\u001b[1m253/253\u001b[0m \u001b[32m━━━━━━━━━━━━━━━━━━━━\u001b[0m\u001b[37m\u001b[0m \u001b[1m6s\u001b[0m 22ms/step - loss: 4.4041e-04\n",
      "Epoch 8/20\n",
      "\u001b[1m253/253\u001b[0m \u001b[32m━━━━━━━━━━━━━━━━━━━━\u001b[0m\u001b[37m\u001b[0m \u001b[1m6s\u001b[0m 23ms/step - loss: 4.1571e-04\n",
      "Epoch 9/20\n",
      "\u001b[1m253/253\u001b[0m \u001b[32m━━━━━━━━━━━━━━━━━━━━\u001b[0m\u001b[37m\u001b[0m \u001b[1m7s\u001b[0m 28ms/step - loss: 4.1674e-04\n",
      "Epoch 10/20\n",
      "\u001b[1m253/253\u001b[0m \u001b[32m━━━━━━━━━━━━━━━━━━━━\u001b[0m\u001b[37m\u001b[0m \u001b[1m7s\u001b[0m 27ms/step - loss: 2.8739e-04\n",
      "Epoch 11/20\n",
      "\u001b[1m253/253\u001b[0m \u001b[32m━━━━━━━━━━━━━━━━━━━━\u001b[0m\u001b[37m\u001b[0m \u001b[1m7s\u001b[0m 29ms/step - loss: 3.8080e-04\n",
      "Epoch 12/20\n",
      "\u001b[1m253/253\u001b[0m \u001b[32m━━━━━━━━━━━━━━━━━━━━\u001b[0m\u001b[37m\u001b[0m \u001b[1m6s\u001b[0m 25ms/step - loss: 3.2993e-04\n",
      "Epoch 13/20\n",
      "\u001b[1m253/253\u001b[0m \u001b[32m━━━━━━━━━━━━━━━━━━━━\u001b[0m\u001b[37m\u001b[0m \u001b[1m8s\u001b[0m 32ms/step - loss: 3.3198e-04\n",
      "Epoch 14/20\n",
      "\u001b[1m253/253\u001b[0m \u001b[32m━━━━━━━━━━━━━━━━━━━━\u001b[0m\u001b[37m\u001b[0m \u001b[1m6s\u001b[0m 22ms/step - loss: 2.5726e-04\n",
      "Epoch 15/20\n",
      "\u001b[1m253/253\u001b[0m \u001b[32m━━━━━━━━━━━━━━━━━━━━\u001b[0m\u001b[37m\u001b[0m \u001b[1m5s\u001b[0m 20ms/step - loss: 2.9700e-04\n",
      "Epoch 16/20\n",
      "\u001b[1m253/253\u001b[0m \u001b[32m━━━━━━━━━━━━━━━━━━━━\u001b[0m\u001b[37m\u001b[0m \u001b[1m5s\u001b[0m 20ms/step - loss: 2.3409e-04\n",
      "Epoch 17/20\n",
      "\u001b[1m253/253\u001b[0m \u001b[32m━━━━━━━━━━━━━━━━━━━━\u001b[0m\u001b[37m\u001b[0m \u001b[1m5s\u001b[0m 20ms/step - loss: 2.5099e-04\n",
      "Epoch 18/20\n",
      "\u001b[1m253/253\u001b[0m \u001b[32m━━━━━━━━━━━━━━━━━━━━\u001b[0m\u001b[37m\u001b[0m \u001b[1m5s\u001b[0m 21ms/step - loss: 2.6152e-04\n",
      "Epoch 19/20\n",
      "\u001b[1m253/253\u001b[0m \u001b[32m━━━━━━━━━━━━━━━━━━━━\u001b[0m\u001b[37m\u001b[0m \u001b[1m5s\u001b[0m 21ms/step - loss: 2.2246e-04\n",
      "Epoch 20/20\n",
      "\u001b[1m253/253\u001b[0m \u001b[32m━━━━━━━━━━━━━━━━━━━━\u001b[0m\u001b[37m\u001b[0m \u001b[1m5s\u001b[0m 21ms/step - loss: 1.8615e-04\n"
     ]
    },
    {
     "data": {
      "text/plain": [
       "<keras.src.callbacks.history.History at 0x14f3826ac20>"
      ]
     },
     "execution_count": 9,
     "metadata": {},
     "output_type": "execute_result"
    }
   ],
   "source": [
    "# Define e treina o modelo\n",
    "modelo = Sequential()\n",
    "modelo.add(LSTM(100, return_sequences=True, input_shape=(treinamento_x.shape[1], 1)))\n",
    "modelo.add(LSTM(50, return_sequences=False))\n",
    "modelo.add(Dense(25))\n",
    "modelo.add(Dense(1))\n",
    "modelo.compile(optimizer=\"adam\", loss=\"mean_squared_error\")\n",
    "modelo.fit(treinamento_x, treinamento_y, batch_size=10, epochs=20)"
   ]
  },
  {
   "cell_type": "code",
   "execution_count": 10,
   "id": "d2f883b7",
   "metadata": {},
   "outputs": [],
   "source": [
    "# Pega os últimos 60 dias até ANTEONTEM para previsão\n",
    "ultimos_60 = dados_escalados[-60:]\n",
    "entrada_predicao = ultimos_60.reshape(1, 60, 1)"
   ]
  },
  {
   "cell_type": "code",
   "execution_count": 11,
   "id": "780cff91",
   "metadata": {},
   "outputs": [
    {
     "name": "stdout",
     "output_type": "stream",
     "text": [
      "\u001b[1m1/1\u001b[0m \u001b[32m━━━━━━━━━━━━━━━━━━━━\u001b[0m\u001b[37m\u001b[0m \u001b[1m0s\u001b[0m 231ms/step\n",
      "Valor previsto: 134282.62\n"
     ]
    }
   ],
   "source": [
    "predicao = modelo.predict(entrada_predicao)\n",
    "predicao = escalador.inverse_transform(predicao)\n",
    "\n",
    "print(f'Valor previsto: {predicao[0][0]:.2f}')"
   ]
  },
  {
   "cell_type": "markdown",
   "id": "540ba847",
   "metadata": {},
   "source": [
    "# Métricas de avaliação do nosso modelo de ML"
   ]
  },
  {
   "cell_type": "markdown",
   "id": "1c55c192",
   "metadata": {},
   "source": [
    "### Acurácia direcional"
   ]
  },
  {
   "cell_type": "code",
   "execution_count": null,
   "id": "ee629923",
   "metadata": {},
   "outputs": [
    {
     "data": {
      "text/html": [
       "<div>\n",
       "<style scoped>\n",
       "    .dataframe tbody tr th:only-of-type {\n",
       "        vertical-align: middle;\n",
       "    }\n",
       "\n",
       "    .dataframe tbody tr th {\n",
       "        vertical-align: top;\n",
       "    }\n",
       "\n",
       "    .dataframe thead th {\n",
       "        text-align: right;\n",
       "    }\n",
       "</style>\n",
       "<table border=\"1\" class=\"dataframe\">\n",
       "  <thead>\n",
       "    <tr style=\"text-align: right;\">\n",
       "      <th></th>\n",
       "      <th>Data Previsão</th>\n",
       "      <th>Valor Anterior</th>\n",
       "      <th>Valor Real</th>\n",
       "      <th>Valor Previsto</th>\n",
       "      <th>Variação Real (%)</th>\n",
       "      <th>Variação Prevista (%)</th>\n",
       "      <th>Direção Correta?</th>\n",
       "    </tr>\n",
       "  </thead>\n",
       "  <tbody>\n",
       "    <tr>\n",
       "      <th>0</th>\n",
       "      <td>2025-06-04</td>\n",
       "      <td>137546.00</td>\n",
       "      <td>137002.0</td>\n",
       "      <td>134282.62</td>\n",
       "      <td>-0.396</td>\n",
       "      <td>-2.373</td>\n",
       "      <td>Sim</td>\n",
       "    </tr>\n",
       "  </tbody>\n",
       "</table>\n",
       "</div>"
      ],
      "text/plain": [
       "  Data Previsão Valor Anterior  Valor Real  Valor Previsto  Variação Real (%)  \\\n",
       "0    2025-06-04      137546.00    137002.0       134282.62             -0.396   \n",
       "\n",
       "   Variação Prevista (%) Direção Correta?  \n",
       "0                 -2.373              Sim  "
      ]
     },
     "execution_count": 19,
     "metadata": {},
     "output_type": "execute_result"
    }
   ],
   "source": [
    "# Valor real de ontem e anteontem\n",
    "# valor_real = acao[acao['Data'] == ontem]['Último'].values[0]\n",
    "# valor_anterior = acao[acao['Data'] == anteontem]['Último'].values[0]\n",
    "\n",
    "# Calcular a variação percentual real e predita\n",
    "# variacao_real = (valor_real - valor_anterior) / valor_anterior * 100\n",
    "# variacao_predita = (predicao[0][0] - valor_anterior) / valor_anterior * 100\n",
    "\n",
    "# ---- Descomenatr as quatro linhas de baixo caso for prever do dia seguinte ----\n",
    "valor_real = 137002\t# Valor do ibovespa no dia 04/06/2025 (dia que não tem na base)\n",
    "valor_anterior = acao[acao['Data'] == ontem]['Último'].values[0]\n",
    "variacao_real = (valor_real - valor_anterior) / valor_anterior * 100\n",
    "variacao_predita = (predicao[0][0] - valor_anterior) / valor_anterior * 100\n",
    "# -----------------------------------------------------------------------------\n",
    "\n",
    "# Direção correta?\n",
    "direcao_correta = (variacao_real * variacao_predita) > 0  # ambos com mesmo sinal\n",
    "\n",
    "# Criar df final\n",
    "df_previsao = pd.DataFrame([{\n",
    "    # 'Data': ontem.date(), # Data do penultimo dia da base\n",
    "    'Data Previsão': ontem.date() + timedelta(days=1), # Data do dia seguinte do ultimo dia da base\n",
    "    'Valor Anterior': f\"{valor_anterior:.2f}\",\n",
    "    'Valor Real': f\"{valor_real:.2f}\",\n",
    "    'Valor Previsto': f\"{predicao[0][0]:.2f}\",\n",
    "    'Variação Real (%)': f\"{variacao_real:.3f}\",\n",
    "    'Variação Prevista (%)': f\"{variacao_predita:.3f}\",\n",
    "    'Direção Correta?': 'Sim' if direcao_correta else 'Não'\n",
    "}])\n",
    "\n",
    "# Ajustar colunas numéricas\n",
    "colunas_para_converter = ['Valor Real', 'Valor Previsto', 'Variação Real (%)', 'Variação Prevista (%)']\n",
    "for coluna in colunas_para_converter:\n",
    "    df_previsao[coluna] = df_previsao[coluna].astype(float)\n",
    "\n",
    "df_previsao"
   ]
  },
  {
   "cell_type": "markdown",
   "id": "2ca45cf1",
   "metadata": {},
   "source": [
    "### Mean Absolute Error (MAE) e Mean Absolute Percentage Error (MAPE)"
   ]
  },
  {
   "cell_type": "code",
   "execution_count": 14,
   "id": "b604726e",
   "metadata": {},
   "outputs": [
    {
     "name": "stdout",
     "output_type": "stream",
     "text": [
      "Mean Absolute Error (MAE): 2719.38\n",
      "Mean Absolute Percentage Error (MAPE): 0.019849 = 1.9849%\n"
     ]
    }
   ],
   "source": [
    "# A média das diferenças absolutas entre as previsões e os valores reais. Penaliza todos os erros da mesma forma\n",
    "mae = mean_absolute_error(df_previsao['Valor Real'], df_previsao['Valor Previsto'])\n",
    "print(f\"Mean Absolute Error (MAE): {mae:.2f}\")\n",
    "\n",
    "# Calcular o MAPE\n",
    "mape = mean_absolute_percentage_error(df_previsao['Valor Real'], df_previsao['Valor Previsto'])\n",
    "print(f\"Mean Absolute Percentage Error (MAPE): {mape:.6f} = {100*mape:.4f}%\")"
   ]
  },
  {
   "cell_type": "markdown",
   "id": "7beb3446",
   "metadata": {},
   "source": [
    "### Root Mean Squared Error (RMSE)"
   ]
  },
  {
   "cell_type": "code",
   "execution_count": 15,
   "id": "9a0cce93",
   "metadata": {},
   "outputs": [
    {
     "name": "stdout",
     "output_type": "stream",
     "text": [
      "RMSE: 2719.38\n",
      "RMSE percentual: 0.019849 = 1.9849%\n"
     ]
    }
   ],
   "source": [
    "# A raiz quadrada da média dos erros ao quadrado. Dá mais peso a grandes erros\n",
    "rmse = np.sqrt(mean_squared_error(df_previsao['Valor Real'], df_previsao['Valor Previsto']))\n",
    "mean_price = df_previsao['Valor Real'].mean()\n",
    "\n",
    "print(f\"RMSE: {rmse:.2f}\")\n",
    "print(f\"RMSE percentual: {(rmse / mean_price):.6f} = {100*(rmse / mean_price):.4f}%\")"
   ]
  }
 ],
 "metadata": {
  "kernelspec": {
   "display_name": "Python 3",
   "language": "python",
   "name": "python3"
  },
  "language_info": {
   "codemirror_mode": {
    "name": "ipython",
    "version": 3
   },
   "file_extension": ".py",
   "mimetype": "text/x-python",
   "name": "python",
   "nbconvert_exporter": "python",
   "pygments_lexer": "ipython3",
   "version": "3.10.11"
  }
 },
 "nbformat": 4,
 "nbformat_minor": 5
}
