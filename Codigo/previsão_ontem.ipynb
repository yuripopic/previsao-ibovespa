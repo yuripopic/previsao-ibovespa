{
 "cells": [
  {
   "cell_type": "markdown",
   "id": "1321a5ce",
   "metadata": {},
   "source": [
    "## Bibliotecas"
   ]
  },
  {
   "cell_type": "code",
   "execution_count": 29,
   "id": "7e89d0e3",
   "metadata": {},
   "outputs": [],
   "source": [
    "import numpy as np\n",
    "import pandas as pd\n",
    "from sklearn.preprocessing import MinMaxScaler \n",
    "from sklearn.metrics import mean_absolute_error, mean_absolute_percentage_error, mean_squared_error\n",
    "from keras.models import Sequential\n",
    "from keras.layers import Dense, LSTM\n",
    "import matplotlib.pyplot as plt\n",
    "from pathlib import Path\n",
    "import os\n",
    "pd.options.mode.chained_assignment = None"
   ]
  },
  {
   "cell_type": "markdown",
   "id": "ecc49569",
   "metadata": {},
   "source": [
    "## Ler base"
   ]
  },
  {
   "cell_type": "code",
   "execution_count": 30,
   "id": "99cfa577",
   "metadata": {},
   "outputs": [
    {
     "data": {
      "text/html": [
       "<div>\n",
       "<style scoped>\n",
       "    .dataframe tbody tr th:only-of-type {\n",
       "        vertical-align: middle;\n",
       "    }\n",
       "\n",
       "    .dataframe tbody tr th {\n",
       "        vertical-align: top;\n",
       "    }\n",
       "\n",
       "    .dataframe thead th {\n",
       "        text-align: right;\n",
       "    }\n",
       "</style>\n",
       "<table border=\"1\" class=\"dataframe\">\n",
       "  <thead>\n",
       "    <tr style=\"text-align: right;\">\n",
       "      <th></th>\n",
       "      <th>Data</th>\n",
       "      <th>Último</th>\n",
       "      <th>Abertura</th>\n",
       "      <th>Máxima</th>\n",
       "      <th>Mínima</th>\n",
       "      <th>Variacao (%)</th>\n",
       "    </tr>\n",
       "  </thead>\n",
       "  <tbody>\n",
       "    <tr>\n",
       "      <th>0</th>\n",
       "      <td>2015-01-05</td>\n",
       "      <td>47517</td>\n",
       "      <td>48512</td>\n",
       "      <td>48512</td>\n",
       "      <td>47264</td>\n",
       "      <td>-0.0205</td>\n",
       "    </tr>\n",
       "    <tr>\n",
       "      <th>1</th>\n",
       "      <td>2015-01-06</td>\n",
       "      <td>48001</td>\n",
       "      <td>47517</td>\n",
       "      <td>48061</td>\n",
       "      <td>47338</td>\n",
       "      <td>0.0102</td>\n",
       "    </tr>\n",
       "    <tr>\n",
       "      <th>2</th>\n",
       "      <td>2015-01-07</td>\n",
       "      <td>49463</td>\n",
       "      <td>48006</td>\n",
       "      <td>49882</td>\n",
       "      <td>48006</td>\n",
       "      <td>0.0305</td>\n",
       "    </tr>\n",
       "    <tr>\n",
       "      <th>3</th>\n",
       "      <td>2015-01-08</td>\n",
       "      <td>49943</td>\n",
       "      <td>49463</td>\n",
       "      <td>50261</td>\n",
       "      <td>49017</td>\n",
       "      <td>0.0097</td>\n",
       "    </tr>\n",
       "    <tr>\n",
       "      <th>4</th>\n",
       "      <td>2015-01-09</td>\n",
       "      <td>48840</td>\n",
       "      <td>49955</td>\n",
       "      <td>49955</td>\n",
       "      <td>48501</td>\n",
       "      <td>-0.0221</td>\n",
       "    </tr>\n",
       "    <tr>\n",
       "      <th>...</th>\n",
       "      <td>...</td>\n",
       "      <td>...</td>\n",
       "      <td>...</td>\n",
       "      <td>...</td>\n",
       "      <td>...</td>\n",
       "      <td>...</td>\n",
       "    </tr>\n",
       "    <tr>\n",
       "      <th>2577</th>\n",
       "      <td>2025-05-28</td>\n",
       "      <td>138888</td>\n",
       "      <td>139541</td>\n",
       "      <td>139547</td>\n",
       "      <td>138580</td>\n",
       "      <td>-0.0047</td>\n",
       "    </tr>\n",
       "    <tr>\n",
       "      <th>2578</th>\n",
       "      <td>2025-05-29</td>\n",
       "      <td>138534</td>\n",
       "      <td>138869</td>\n",
       "      <td>139108</td>\n",
       "      <td>137993</td>\n",
       "      <td>-0.0025</td>\n",
       "    </tr>\n",
       "    <tr>\n",
       "      <th>2579</th>\n",
       "      <td>2025-05-30</td>\n",
       "      <td>137027</td>\n",
       "      <td>138546</td>\n",
       "      <td>138637</td>\n",
       "      <td>136726</td>\n",
       "      <td>-0.0109</td>\n",
       "    </tr>\n",
       "    <tr>\n",
       "      <th>2580</th>\n",
       "      <td>2025-06-02</td>\n",
       "      <td>136787</td>\n",
       "      <td>137026</td>\n",
       "      <td>138471</td>\n",
       "      <td>136483</td>\n",
       "      <td>-0.0017</td>\n",
       "    </tr>\n",
       "    <tr>\n",
       "      <th>2581</th>\n",
       "      <td>2025-06-03</td>\n",
       "      <td>136685</td>\n",
       "      <td>136787</td>\n",
       "      <td>136788</td>\n",
       "      <td>136685</td>\n",
       "      <td>-0.0007</td>\n",
       "    </tr>\n",
       "  </tbody>\n",
       "</table>\n",
       "<p>2582 rows × 6 columns</p>\n",
       "</div>"
      ],
      "text/plain": [
       "           Data  Último  Abertura  Máxima  Mínima  Variacao (%)\n",
       "0    2015-01-05   47517     48512   48512   47264       -0.0205\n",
       "1    2015-01-06   48001     47517   48061   47338        0.0102\n",
       "2    2015-01-07   49463     48006   49882   48006        0.0305\n",
       "3    2015-01-08   49943     49463   50261   49017        0.0097\n",
       "4    2015-01-09   48840     49955   49955   48501       -0.0221\n",
       "...         ...     ...       ...     ...     ...           ...\n",
       "2577 2025-05-28  138888    139541  139547  138580       -0.0047\n",
       "2578 2025-05-29  138534    138869  139108  137993       -0.0025\n",
       "2579 2025-05-30  137027    138546  138637  136726       -0.0109\n",
       "2580 2025-06-02  136787    137026  138471  136483       -0.0017\n",
       "2581 2025-06-03  136685    136787  136788  136685       -0.0007\n",
       "\n",
       "[2582 rows x 6 columns]"
      ]
     },
     "execution_count": 30,
     "metadata": {},
     "output_type": "execute_result"
    }
   ],
   "source": [
    "# Caminho da base\n",
    "base_diretório = Path(os.getcwd())\n",
    "diretório_princapl = base_diretório.parent\n",
    "caminho = diretório_princapl / 'Base' / 'Base Ibovespa Tratada.csv'\n",
    "\n",
    "# Carrega a base\n",
    "acao = pd.read_csv(caminho)\n",
    "acao['Data'] = pd.to_datetime(acao['Data'])\n",
    "\n",
    "# Ordena por data (caso não esteja)\n",
    "acao = acao.sort_values(by=\"Data\")\n",
    "\n",
    "acao"
   ]
  },
  {
   "cell_type": "code",
   "execution_count": 31,
   "id": "872950e9",
   "metadata": {},
   "outputs": [
    {
     "name": "stdout",
     "output_type": "stream",
     "text": [
      "Ontem: 2025-06-03 00:00:00\n",
      "Anteontem: 2025-06-02 00:00:00\n"
     ]
    }
   ],
   "source": [
    "# Define ontem e anteontem\n",
    "ontem = acao['Data'].max()\n",
    "anteontem = acao['Data'].iloc[-2]\n",
    "\n",
    "print(f'Ontem: {ontem}\\nAnteontem: {anteontem}')"
   ]
  },
  {
   "cell_type": "code",
   "execution_count": 32,
   "id": "deddcf32",
   "metadata": {},
   "outputs": [],
   "source": [
    "# Filtrando da base de treino até anteontem\n",
    "acao_treino = acao[acao['Data'] < ontem]\n",
    "cotacao_treino = acao_treino['Último'].to_numpy().reshape(-1, 1)"
   ]
  },
  {
   "cell_type": "code",
   "execution_count": 33,
   "id": "d6276318",
   "metadata": {},
   "outputs": [],
   "source": [
    "# Escala os dados\n",
    "escalador = MinMaxScaler(feature_range=(0, 1))\n",
    "dados_escalados = escalador.fit_transform(cotacao_treino)"
   ]
  },
  {
   "cell_type": "code",
   "execution_count": 34,
   "id": "1e8816bb",
   "metadata": {},
   "outputs": [],
   "source": [
    "# Cria dados de entrada para o modelo\n",
    "treinamento_x = []\n",
    "treinamento_y = []\n",
    "\n",
    "for i in range(60, len(dados_escalados)):\n",
    "    treinamento_x.append(dados_escalados[i-60:i, 0])\n",
    "    treinamento_y.append(dados_escalados[i, 0])"
   ]
  },
  {
   "cell_type": "code",
   "execution_count": 35,
   "id": "7a31ebf2",
   "metadata": {},
   "outputs": [],
   "source": [
    "treinamento_x, treinamento_y = np.array(treinamento_x), np.array(treinamento_y)\n",
    "treinamento_x = treinamento_x.reshape(treinamento_x.shape[0], treinamento_x.shape[1], 1)"
   ]
  },
  {
   "cell_type": "code",
   "execution_count": 36,
   "id": "710379f4",
   "metadata": {},
   "outputs": [
    {
     "name": "stdout",
     "output_type": "stream",
     "text": [
      "Epoch 1/10\n"
     ]
    },
    {
     "name": "stderr",
     "output_type": "stream",
     "text": [
      "c:\\Users\\YUPOPIC\\AppData\\Local\\Programs\\Python\\Python310\\lib\\site-packages\\keras\\src\\layers\\rnn\\rnn.py:199: UserWarning: Do not pass an `input_shape`/`input_dim` argument to a layer. When using Sequential models, prefer using an `Input(shape)` object as the first layer in the model instead.\n",
      "  super().__init__(**kwargs)\n"
     ]
    },
    {
     "name": "stdout",
     "output_type": "stream",
     "text": [
      "\u001b[1m253/253\u001b[0m \u001b[32m━━━━━━━━━━━━━━━━━━━━\u001b[0m\u001b[37m\u001b[0m \u001b[1m9s\u001b[0m 25ms/step - loss: 0.0318\n",
      "Epoch 2/10\n",
      "\u001b[1m253/253\u001b[0m \u001b[32m━━━━━━━━━━━━━━━━━━━━\u001b[0m\u001b[37m\u001b[0m \u001b[1m6s\u001b[0m 24ms/step - loss: 8.3810e-04\n",
      "Epoch 3/10\n",
      "\u001b[1m253/253\u001b[0m \u001b[32m━━━━━━━━━━━━━━━━━━━━\u001b[0m\u001b[37m\u001b[0m \u001b[1m6s\u001b[0m 23ms/step - loss: 6.9241e-04\n",
      "Epoch 4/10\n",
      "\u001b[1m253/253\u001b[0m \u001b[32m━━━━━━━━━━━━━━━━━━━━\u001b[0m\u001b[37m\u001b[0m \u001b[1m6s\u001b[0m 24ms/step - loss: 6.2184e-04\n",
      "Epoch 5/10\n",
      "\u001b[1m253/253\u001b[0m \u001b[32m━━━━━━━━━━━━━━━━━━━━\u001b[0m\u001b[37m\u001b[0m \u001b[1m6s\u001b[0m 22ms/step - loss: 4.8960e-04\n",
      "Epoch 6/10\n",
      "\u001b[1m253/253\u001b[0m \u001b[32m━━━━━━━━━━━━━━━━━━━━\u001b[0m\u001b[37m\u001b[0m \u001b[1m5s\u001b[0m 20ms/step - loss: 4.7668e-04\n",
      "Epoch 7/10\n",
      "\u001b[1m253/253\u001b[0m \u001b[32m━━━━━━━━━━━━━━━━━━━━\u001b[0m\u001b[37m\u001b[0m \u001b[1m6s\u001b[0m 23ms/step - loss: 5.5397e-04\n",
      "Epoch 8/10\n",
      "\u001b[1m253/253\u001b[0m \u001b[32m━━━━━━━━━━━━━━━━━━━━\u001b[0m\u001b[37m\u001b[0m \u001b[1m6s\u001b[0m 22ms/step - loss: 5.8833e-04\n",
      "Epoch 9/10\n",
      "\u001b[1m253/253\u001b[0m \u001b[32m━━━━━━━━━━━━━━━━━━━━\u001b[0m\u001b[37m\u001b[0m \u001b[1m8s\u001b[0m 31ms/step - loss: 3.9308e-04\n",
      "Epoch 10/10\n",
      "\u001b[1m253/253\u001b[0m \u001b[32m━━━━━━━━━━━━━━━━━━━━\u001b[0m\u001b[37m\u001b[0m \u001b[1m8s\u001b[0m 31ms/step - loss: 3.6751e-04\n"
     ]
    },
    {
     "data": {
      "text/plain": [
       "<keras.src.callbacks.history.History at 0x1af1fc2b310>"
      ]
     },
     "execution_count": 36,
     "metadata": {},
     "output_type": "execute_result"
    }
   ],
   "source": [
    "# Define e treina o modelo\n",
    "modelo = Sequential()\n",
    "modelo.add(LSTM(100, return_sequences=True, input_shape=(treinamento_x.shape[1], 1)))\n",
    "modelo.add(LSTM(50, return_sequences=False))\n",
    "modelo.add(Dense(25))\n",
    "modelo.add(Dense(1))\n",
    "modelo.compile(optimizer=\"adam\", loss=\"mean_squared_error\")\n",
    "modelo.fit(treinamento_x, treinamento_y, batch_size=10, epochs=10)"
   ]
  },
  {
   "cell_type": "code",
   "execution_count": 37,
   "id": "d2f883b7",
   "metadata": {},
   "outputs": [],
   "source": [
    "# Pega os últimos 60 dias até ANTEONTEM para previsão\n",
    "ultimos_60 = dados_escalados[-60:]\n",
    "entrada_predicao = ultimos_60.reshape(1, 60, 1)"
   ]
  },
  {
   "cell_type": "code",
   "execution_count": 45,
   "id": "7eaafa6d",
   "metadata": {},
   "outputs": [
    {
     "name": "stdout",
     "output_type": "stream",
     "text": [
      "\u001b[1m1/1\u001b[0m \u001b[32m━━━━━━━━━━━━━━━━━━━━\u001b[0m\u001b[37m\u001b[0m \u001b[1m0s\u001b[0m 130ms/step\n",
      "Previsão para 2025-06-03: R$ 135890.453125\n",
      "Valor real em 2025-06-03: R$ 136685\n",
      "Erro absoluto: R$ 794.546875\n",
      "Erro percentual: 0.58%\n"
     ]
    }
   ],
   "source": [
    "# Faz a previsão para ontem\n",
    "predicao = modelo.predict(entrada_predicao)\n",
    "predicao = escalador.inverse_transform(predicao)\n",
    "\n",
    "# Valor real de ontem\n",
    "valor_real = acao[acao['Data'] == ontem]['Último'].values[0]\n",
    "\n",
    "# Exibe os resultados\n",
    "print(f\"Previsão para {ontem.date()}: R$ {predicao[0][0]:}\")\n",
    "print(f\"Valor real em {ontem.date()}: R$ {valor_real:}\")\n",
    "\n",
    "# Métricas\n",
    "erro_abs = abs(valor_real - predicao[0][0])\n",
    "erro_pct = erro_abs / valor_real * 100\n",
    "print(f\"Erro absoluto: R$ {erro_abs:2f}\")\n",
    "print(f\"Erro percentual: {erro_pct:.2f}%\")\n"
   ]
  },
  {
   "cell_type": "code",
   "execution_count": 49,
   "id": "6f6abb71",
   "metadata": {},
   "outputs": [
    {
     "data": {
      "text/plain": [
       "np.float32(135890.45)"
      ]
     },
     "execution_count": 49,
     "metadata": {},
     "output_type": "execute_result"
    }
   ],
   "source": [
    "predicao[0][0]"
   ]
  }
 ],
 "metadata": {
  "kernelspec": {
   "display_name": "Python 3",
   "language": "python",
   "name": "python3"
  },
  "language_info": {
   "codemirror_mode": {
    "name": "ipython",
    "version": 3
   },
   "file_extension": ".py",
   "mimetype": "text/x-python",
   "name": "python",
   "nbconvert_exporter": "python",
   "pygments_lexer": "ipython3",
   "version": "3.10.11"
  }
 },
 "nbformat": 4,
 "nbformat_minor": 5
}
