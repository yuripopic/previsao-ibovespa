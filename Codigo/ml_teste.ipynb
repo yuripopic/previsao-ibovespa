{
 "cells": [
  {
   "cell_type": "markdown",
   "id": "47cfea51",
   "metadata": {},
   "source": [
    "# Modelo de LSTM para teste"
   ]
  },
  {
   "cell_type": "markdown",
   "id": "e1b930ae",
   "metadata": {},
   "source": [
    "## Bibliotecas"
   ]
  },
  {
   "cell_type": "code",
   "execution_count": 2,
   "id": "60f77bb5",
   "metadata": {},
   "outputs": [],
   "source": [
    "import numpy as np\n",
    "import pandas as pd\n",
    "from sklearn.preprocessing import MinMaxScaler \n",
    "from keras.models import Sequential\n",
    "from keras.layers import Dense, LSTM\n",
    "import matplotlib.pyplot as plt\n",
    "from pathlib import Path\n",
    "import os\n",
    "pd.options.mode.chained_assignment = None"
   ]
  },
  {
   "cell_type": "markdown",
   "id": "11de4f3e",
   "metadata": {},
   "source": [
    "## Ler bases"
   ]
  },
  {
   "cell_type": "code",
   "execution_count": 3,
   "id": "1c3f6634",
   "metadata": {},
   "outputs": [
    {
     "data": {
      "text/html": [
       "<div>\n",
       "<style scoped>\n",
       "    .dataframe tbody tr th:only-of-type {\n",
       "        vertical-align: middle;\n",
       "    }\n",
       "\n",
       "    .dataframe tbody tr th {\n",
       "        vertical-align: top;\n",
       "    }\n",
       "\n",
       "    .dataframe thead th {\n",
       "        text-align: right;\n",
       "    }\n",
       "</style>\n",
       "<table border=\"1\" class=\"dataframe\">\n",
       "  <thead>\n",
       "    <tr style=\"text-align: right;\">\n",
       "      <th></th>\n",
       "      <th>Data</th>\n",
       "      <th>Último</th>\n",
       "      <th>Abertura</th>\n",
       "      <th>Máxima</th>\n",
       "      <th>Mínima</th>\n",
       "      <th>Variacao (%)</th>\n",
       "    </tr>\n",
       "  </thead>\n",
       "  <tbody>\n",
       "    <tr>\n",
       "      <th>0</th>\n",
       "      <td>2015-01-05</td>\n",
       "      <td>47.517</td>\n",
       "      <td>48.512</td>\n",
       "      <td>48.512</td>\n",
       "      <td>47.264</td>\n",
       "      <td>-0.0205</td>\n",
       "    </tr>\n",
       "    <tr>\n",
       "      <th>1</th>\n",
       "      <td>2015-01-06</td>\n",
       "      <td>48.001</td>\n",
       "      <td>47.517</td>\n",
       "      <td>48.061</td>\n",
       "      <td>47.338</td>\n",
       "      <td>0.0102</td>\n",
       "    </tr>\n",
       "    <tr>\n",
       "      <th>2</th>\n",
       "      <td>2015-01-07</td>\n",
       "      <td>49.463</td>\n",
       "      <td>48.006</td>\n",
       "      <td>49.882</td>\n",
       "      <td>48.006</td>\n",
       "      <td>0.0305</td>\n",
       "    </tr>\n",
       "    <tr>\n",
       "      <th>3</th>\n",
       "      <td>2015-01-08</td>\n",
       "      <td>49.943</td>\n",
       "      <td>49.463</td>\n",
       "      <td>50.261</td>\n",
       "      <td>49.017</td>\n",
       "      <td>0.0097</td>\n",
       "    </tr>\n",
       "    <tr>\n",
       "      <th>4</th>\n",
       "      <td>2015-01-09</td>\n",
       "      <td>48.840</td>\n",
       "      <td>49.955</td>\n",
       "      <td>49.955</td>\n",
       "      <td>48.501</td>\n",
       "      <td>-0.0221</td>\n",
       "    </tr>\n",
       "    <tr>\n",
       "      <th>...</th>\n",
       "      <td>...</td>\n",
       "      <td>...</td>\n",
       "      <td>...</td>\n",
       "      <td>...</td>\n",
       "      <td>...</td>\n",
       "      <td>...</td>\n",
       "    </tr>\n",
       "    <tr>\n",
       "      <th>2577</th>\n",
       "      <td>2025-05-28</td>\n",
       "      <td>138.888</td>\n",
       "      <td>139.541</td>\n",
       "      <td>139.547</td>\n",
       "      <td>138.580</td>\n",
       "      <td>-0.0047</td>\n",
       "    </tr>\n",
       "    <tr>\n",
       "      <th>2578</th>\n",
       "      <td>2025-05-29</td>\n",
       "      <td>138.534</td>\n",
       "      <td>138.869</td>\n",
       "      <td>139.108</td>\n",
       "      <td>137.993</td>\n",
       "      <td>-0.0025</td>\n",
       "    </tr>\n",
       "    <tr>\n",
       "      <th>2579</th>\n",
       "      <td>2025-05-30</td>\n",
       "      <td>137.027</td>\n",
       "      <td>138.546</td>\n",
       "      <td>138.637</td>\n",
       "      <td>136.726</td>\n",
       "      <td>-0.0109</td>\n",
       "    </tr>\n",
       "    <tr>\n",
       "      <th>2580</th>\n",
       "      <td>2025-06-02</td>\n",
       "      <td>136.787</td>\n",
       "      <td>137.026</td>\n",
       "      <td>138.471</td>\n",
       "      <td>136.483</td>\n",
       "      <td>-0.0017</td>\n",
       "    </tr>\n",
       "    <tr>\n",
       "      <th>2581</th>\n",
       "      <td>2025-06-03</td>\n",
       "      <td>136.685</td>\n",
       "      <td>136.787</td>\n",
       "      <td>136.788</td>\n",
       "      <td>136.685</td>\n",
       "      <td>-0.0007</td>\n",
       "    </tr>\n",
       "  </tbody>\n",
       "</table>\n",
       "<p>2582 rows × 6 columns</p>\n",
       "</div>"
      ],
      "text/plain": [
       "           Data   Último  Abertura   Máxima   Mínima  Variacao (%)\n",
       "0    2015-01-05   47.517    48.512   48.512   47.264       -0.0205\n",
       "1    2015-01-06   48.001    47.517   48.061   47.338        0.0102\n",
       "2    2015-01-07   49.463    48.006   49.882   48.006        0.0305\n",
       "3    2015-01-08   49.943    49.463   50.261   49.017        0.0097\n",
       "4    2015-01-09   48.840    49.955   49.955   48.501       -0.0221\n",
       "...         ...      ...       ...      ...      ...           ...\n",
       "2577 2025-05-28  138.888   139.541  139.547  138.580       -0.0047\n",
       "2578 2025-05-29  138.534   138.869  139.108  137.993       -0.0025\n",
       "2579 2025-05-30  137.027   138.546  138.637  136.726       -0.0109\n",
       "2580 2025-06-02  136.787   137.026  138.471  136.483       -0.0017\n",
       "2581 2025-06-03  136.685   136.787  136.788  136.685       -0.0007\n",
       "\n",
       "[2582 rows x 6 columns]"
      ]
     },
     "execution_count": 3,
     "metadata": {},
     "output_type": "execute_result"
    }
   ],
   "source": [
    "# Caminho do arquivo\n",
    "base_diretório = Path(os.getcwd())\n",
    "diretório_princapl = base_diretório.parent\n",
    "caminho = diretório_princapl / 'Base' / 'Base Ibovespa Tratada.csv'\n",
    "\n",
    "# Carregar a base\n",
    "acao = pd.read_csv(caminho)\n",
    "acao['Data'] = pd.to_datetime(acao['Data'])\n",
    "\n",
    "acao"
   ]
  },
  {
   "cell_type": "code",
   "execution_count": 4,
   "id": "9398d17f",
   "metadata": {},
   "outputs": [
    {
     "data": {
      "text/plain": [
       "array([[ 47.517],\n",
       "       [ 48.001],\n",
       "       [ 49.463],\n",
       "       ...,\n",
       "       [137.027],\n",
       "       [136.787],\n",
       "       [136.685]])"
      ]
     },
     "execution_count": 4,
     "metadata": {},
     "output_type": "execute_result"
    }
   ],
   "source": [
    "# Cotação da base completa\n",
    "cotacao = acao['Último'].to_numpy().reshape(-1, 1)\n",
    "\n",
    "cotacao"
   ]
  },
  {
   "cell_type": "code",
   "execution_count": 5,
   "id": "ae46e007",
   "metadata": {},
   "outputs": [
    {
     "data": {
      "text/plain": [
       "array([[0.09764845],\n",
       "       [0.1023652 ],\n",
       "       [0.1166129 ],\n",
       "       ...,\n",
       "       [0.96995507],\n",
       "       [0.96761619],\n",
       "       [0.96662216]])"
      ]
     },
     "execution_count": 5,
     "metadata": {},
     "output_type": "execute_result"
    }
   ],
   "source": [
    "# Escalar os dados\n",
    "escalador = MinMaxScaler(feature_range=(0, 1))\n",
    "dados_escalados = escalador.fit_transform(cotacao)\n",
    "\n",
    "dados_escalados"
   ]
  },
  {
   "cell_type": "code",
   "execution_count": 6,
   "id": "6652799a",
   "metadata": {},
   "outputs": [],
   "source": [
    "# Criar conjuntos de treinamento\n",
    "treinamento_x = []\n",
    "treinamento_y = []\n",
    "\n",
    "for i in range(60, len(dados_escalados)):\n",
    "    treinamento_x.append(dados_escalados[i-60:i, 0])\n",
    "    treinamento_y.append(dados_escalados[i, 0])"
   ]
  },
  {
   "cell_type": "code",
   "execution_count": 7,
   "id": "5758ad61",
   "metadata": {},
   "outputs": [],
   "source": [
    "treinamento_x, treinamento_y = np.array(treinamento_x), np.array(treinamento_y)\n",
    "treinamento_x = treinamento_x.reshape(treinamento_x.shape[0], treinamento_x.shape[1], 1)"
   ]
  },
  {
   "cell_type": "code",
   "execution_count": 8,
   "id": "7c3f0e5c",
   "metadata": {},
   "outputs": [
    {
     "name": "stderr",
     "output_type": "stream",
     "text": [
      "c:\\Users\\YUPOPIC\\AppData\\Local\\Programs\\Python\\Python310\\lib\\site-packages\\keras\\src\\layers\\rnn\\rnn.py:199: UserWarning: Do not pass an `input_shape`/`input_dim` argument to a layer. When using Sequential models, prefer using an `Input(shape)` object as the first layer in the model instead.\n",
      "  super().__init__(**kwargs)\n"
     ]
    }
   ],
   "source": [
    "# Construir o modelo\n",
    "modelo = Sequential()\n",
    "modelo.add(LSTM(100, return_sequences=True, input_shape=(treinamento_x.shape[1], 1)))\n",
    "modelo.add(LSTM(50, return_sequences=False))\n",
    "modelo.add(Dense(25))\n",
    "modelo.add(Dense(1))\n",
    "modelo.compile(optimizer=\"adam\", loss=\"mean_squared_error\")"
   ]
  },
  {
   "cell_type": "code",
   "execution_count": 9,
   "id": "c13ef414",
   "metadata": {},
   "outputs": [
    {
     "name": "stdout",
     "output_type": "stream",
     "text": [
      "Epoch 1/10\n",
      "\u001b[1m253/253\u001b[0m \u001b[32m━━━━━━━━━━━━━━━━━━━━\u001b[0m\u001b[37m\u001b[0m \u001b[1m8s\u001b[0m 22ms/step - loss: 0.0276\n",
      "Epoch 2/10\n",
      "\u001b[1m253/253\u001b[0m \u001b[32m━━━━━━━━━━━━━━━━━━━━\u001b[0m\u001b[37m\u001b[0m \u001b[1m6s\u001b[0m 22ms/step - loss: 8.3676e-04\n",
      "Epoch 3/10\n",
      "\u001b[1m253/253\u001b[0m \u001b[32m━━━━━━━━━━━━━━━━━━━━\u001b[0m\u001b[37m\u001b[0m \u001b[1m6s\u001b[0m 22ms/step - loss: 7.9692e-04\n",
      "Epoch 4/10\n",
      "\u001b[1m253/253\u001b[0m \u001b[32m━━━━━━━━━━━━━━━━━━━━\u001b[0m\u001b[37m\u001b[0m \u001b[1m6s\u001b[0m 22ms/step - loss: 6.1701e-04\n",
      "Epoch 5/10\n",
      "\u001b[1m253/253\u001b[0m \u001b[32m━━━━━━━━━━━━━━━━━━━━\u001b[0m\u001b[37m\u001b[0m \u001b[1m6s\u001b[0m 23ms/step - loss: 6.5045e-04\n",
      "Epoch 6/10\n",
      "\u001b[1m253/253\u001b[0m \u001b[32m━━━━━━━━━━━━━━━━━━━━\u001b[0m\u001b[37m\u001b[0m \u001b[1m5s\u001b[0m 21ms/step - loss: 5.2424e-04\n",
      "Epoch 7/10\n",
      "\u001b[1m253/253\u001b[0m \u001b[32m━━━━━━━━━━━━━━━━━━━━\u001b[0m\u001b[37m\u001b[0m \u001b[1m6s\u001b[0m 22ms/step - loss: 5.3101e-04\n",
      "Epoch 8/10\n",
      "\u001b[1m253/253\u001b[0m \u001b[32m━━━━━━━━━━━━━━━━━━━━\u001b[0m\u001b[37m\u001b[0m \u001b[1m6s\u001b[0m 22ms/step - loss: 4.6297e-04\n",
      "Epoch 9/10\n",
      "\u001b[1m253/253\u001b[0m \u001b[32m━━━━━━━━━━━━━━━━━━━━\u001b[0m\u001b[37m\u001b[0m \u001b[1m6s\u001b[0m 22ms/step - loss: 4.2763e-04\n",
      "Epoch 10/10\n",
      "\u001b[1m253/253\u001b[0m \u001b[32m━━━━━━━━━━━━━━━━━━━━\u001b[0m\u001b[37m\u001b[0m \u001b[1m5s\u001b[0m 21ms/step - loss: 3.4721e-04\n"
     ]
    },
    {
     "data": {
      "text/plain": [
       "<keras.src.callbacks.history.History at 0x174dd02d060>"
      ]
     },
     "execution_count": 9,
     "metadata": {},
     "output_type": "execute_result"
    }
   ],
   "source": [
    "# Treinar o modelo\n",
    "modelo.fit(treinamento_x, treinamento_y, batch_size=10, epochs=10)"
   ]
  },
  {
   "cell_type": "code",
   "execution_count": 10,
   "id": "d763bc0a",
   "metadata": {},
   "outputs": [],
   "source": [
    "# Preparar os dados para prever o próximo dia\n",
    "entrada_predicao = dados_escalados[-60:]\n",
    "entrada_predicao = entrada_predicao.reshape(1, 60, 1)"
   ]
  },
  {
   "cell_type": "code",
   "execution_count": 11,
   "id": "6fb934eb",
   "metadata": {},
   "outputs": [
    {
     "name": "stdout",
     "output_type": "stream",
     "text": [
      "\u001b[1m1/1\u001b[0m \u001b[32m━━━━━━━━━━━━━━━━━━━━\u001b[0m\u001b[37m\u001b[0m \u001b[1m0s\u001b[0m 286ms/step\n"
     ]
    }
   ],
   "source": [
    "# Prever\n",
    "predicao = modelo.predict(entrada_predicao)\n",
    "predicao = escalador.inverse_transform(predicao)"
   ]
  },
  {
   "cell_type": "code",
   "execution_count": 13,
   "id": "ac8cf5ef",
   "metadata": {},
   "outputs": [
    {
     "name": "stdout",
     "output_type": "stream",
     "text": [
      "Última data na base: 2025-06-03\n",
      "Previsão para o próximo dia (2025-06-04): R$ 136.624\n"
     ]
    }
   ],
   "source": [
    "# Mostrar resultado\n",
    "ultimo_dia = acao['Data'].max()\n",
    "proximo_dia = ultimo_dia + pd.Timedelta(days=1)  # apenas incremento simples\n",
    "\n",
    "print(f\"Última data na base: {ultimo_dia.date()}\")\n",
    "print(f\"Previsão para o próximo dia ({proximo_dia.date()}): R$ {predicao[0][0]:.3f}\")\n"
   ]
  }
 ],
 "metadata": {
  "kernelspec": {
   "display_name": "Python 3",
   "language": "python",
   "name": "python3"
  },
  "language_info": {
   "codemirror_mode": {
    "name": "ipython",
    "version": 3
   },
   "file_extension": ".py",
   "mimetype": "text/x-python",
   "name": "python",
   "nbconvert_exporter": "python",
   "pygments_lexer": "ipython3",
   "version": "3.10.11"
  }
 },
 "nbformat": 4,
 "nbformat_minor": 5
}
