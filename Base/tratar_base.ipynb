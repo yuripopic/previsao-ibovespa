{
 "cells": [
  {
   "cell_type": "markdown",
   "metadata": {},
   "source": [
    "# Bibliotecas"
   ]
  },
  {
   "cell_type": "code",
   "execution_count": 112,
   "metadata": {},
   "outputs": [],
   "source": [
    "import pandas as pd\n",
    "from pathlib import Path\n",
    "import os"
   ]
  },
  {
   "cell_type": "markdown",
   "metadata": {},
   "source": [
    "# Tratar bases"
   ]
  },
  {
   "cell_type": "code",
   "execution_count": 134,
   "metadata": {},
   "outputs": [],
   "source": [
    "# Diretório base onde o arquivo CSV está localizado\n",
    "base_diretório = Path(os.getcwd())\n",
    "diretório_princapl = base_diretório.parent\n",
    "caminho = diretório_princapl / 'Base'\n",
    "\n",
    "# Definir os caminhos para cada criptomoeda\n",
    "arquivo_ibovespa = caminho / 'Dados Históricos - Ibovespa.csv'"
   ]
  },
  {
   "cell_type": "code",
   "execution_count": 135,
   "metadata": {},
   "outputs": [],
   "source": [
    "def tratar_dados_cripto(caminho_csv):\n",
    "    # Força leitura como string para evitar perda de zeros\n",
    "    acao = pd.read_csv(caminho_csv, dtype=str)\n",
    "\n",
    "    # Converter a coluna de data\n",
    "    acao['Data'] = pd.to_datetime(acao['Data'], format='%d.%m.%Y')\n",
    "\n",
    "    # Corrigir colunas numéricas\n",
    "    colunas_dinheiro = ['Último', 'Abertura', 'Máxima', 'Mínima']\n",
    "    for coluna in colunas_dinheiro:\n",
    "        acao[coluna] = (\n",
    "            acao[coluna]\n",
    "            .str.replace('.', '', regex=False)  # Remove separador de milhar\n",
    "            .str.replace(',', '', regex=False)  # Remove separador decimal\n",
    "            .astype(int)\n",
    "        )\n",
    "\n",
    "    # Corrigir variação percentual\n",
    "    acao['Var%'] = (\n",
    "        acao['Var%']\n",
    "        .str.replace('%', '', regex=False)\n",
    "        .str.replace(',', '.', regex=False)\n",
    "        .astype(float) / 100\n",
    "    )\n",
    "    acao['Var%'] = acao['Var%'].round(4)\n",
    "    acao = acao.rename(columns={'Var%': 'Variacao (%)'})\n",
    "\n",
    "    # Remover a coluna de volume\n",
    "    acao = acao.drop(columns=['Vol.'])\n",
    "\n",
    "    # Ordenar por data\n",
    "    acao = acao.sort_values(by='Data')\n",
    "\n",
    "    return acao\n",
    "\n",
    "# Aplicar função e salvar resultado\n",
    "df_ibovespa = tratar_dados_cripto(arquivo_ibovespa)\n",
    "df_ibovespa.to_csv(\"Base Ibovespa Tratada.csv\", index=False)\n"
   ]
  },
  {
   "cell_type": "code",
   "execution_count": 106,
   "metadata": {},
   "outputs": [],
   "source": [
    "# Função para tratar os dados\n",
    "def tratar_dados_cripto(caminho_csv):\n",
    "    # Ler o arquivo CSV\n",
    "    acao = pd.read_csv(caminho_csv)\n",
    "\n",
    "    # Formatar a coluna de data\n",
    "    acao['Data'] = pd.to_datetime(acao['Data'], format='%d.%m.%Y')\n",
    "\n",
    "    # Converter a coluna 'Var%' para float decimal\n",
    "    acao['Var%'] = acao['Var%'].str.replace('%', '', regex=False).str.replace(',', '.', regex=False).astype(float) / 100\n",
    "    acao['Var%'] = acao['Var%'].round(4)\n",
    "\n",
    "    acao = acao.drop(columns=['Vol.'])\n",
    "\n",
    "    # Renomear a coluna 'Var%'\n",
    "    acao = acao.rename(columns={'Var%': 'Variacao (%)'})\n",
    "\n",
    "    # Ordenar os dados pela data\n",
    "    acao = acao.sort_values(by='Data', ascending=True)\n",
    "\n",
    "    return acao\n",
    "\n",
    "# Aplicar a função\n",
    "df_ibovespa = tratar_dados_cripto(arquivo_ibovespa)\n",
    "\n",
    "\n",
    "df_ibovespa.to_csv(\"Base Ibovespa Tratada.csv\", index=False)\n"
   ]
  },
  {
   "cell_type": "code",
   "execution_count": 133,
   "metadata": {},
   "outputs": [
    {
     "data": {
      "text/plain": [
       "Data            datetime64[ns]\n",
       "Último                   int64\n",
       "Abertura                 int64\n",
       "Máxima                   int64\n",
       "Mínima                   int64\n",
       "Variacao (%)           float64\n",
       "dtype: object"
      ]
     },
     "execution_count": 133,
     "metadata": {},
     "output_type": "execute_result"
    }
   ],
   "source": [
    "df_ibovespa.dtypes"
   ]
  }
 ],
 "metadata": {
  "kernelspec": {
   "display_name": "Python 3",
   "language": "python",
   "name": "python3"
  },
  "language_info": {
   "codemirror_mode": {
    "name": "ipython",
    "version": 3
   },
   "file_extension": ".py",
   "mimetype": "text/x-python",
   "name": "python",
   "nbconvert_exporter": "python",
   "pygments_lexer": "ipython3",
   "version": "3.10.11"
  }
 },
 "nbformat": 4,
 "nbformat_minor": 2
}
